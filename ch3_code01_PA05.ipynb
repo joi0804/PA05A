{
  "nbformat": 4,
  "nbformat_minor": 0,
  "metadata": {
    "colab": {
      "name": "ch3_code01-PA05.ipynb",
      "provenance": [],
      "collapsed_sections": [],
      "include_colab_link": true
    },
    "kernelspec": {
      "display_name": "Python 3",
      "language": "python",
      "name": "python3"
    },
    "language_info": {
      "codemirror_mode": {
        "name": "ipython",
        "version": 3
      },
      "file_extension": ".py",
      "mimetype": "text/x-python",
      "name": "python",
      "nbconvert_exporter": "python",
      "pygments_lexer": "ipython3",
      "version": "3.7.5"
    }
  },
  "cells": [
    {
      "cell_type": "markdown",
      "metadata": {
        "id": "view-in-github",
        "colab_type": "text"
      },
      "source": [
        "<a href=\"https://colab.research.google.com/github/joi0804/PA05A/blob/main/ch3_code01_PA05.ipynb\" target=\"_parent\"><img src=\"https://colab.research.google.com/assets/colab-badge.svg\" alt=\"Open In Colab\"/></a>"
      ]
    },
    {
      "cell_type": "markdown",
      "metadata": {
        "id": "q-KWIH_iWMi7"
      },
      "source": [
        "# 파이썬활용\n",
        "## 구글 코랩에서 코딩\n",
        "  작업 노트 코드는 구글드라이브에 저장\n",
        "\n",
        " pa05\n",
        "  \n",
        " 2021.04.19\n",
        "\n"
      ]
    },
    {
      "cell_type": "markdown",
      "metadata": {
        "id": "H4jNE-BMAK3f"
      },
      "source": [
        "# ch3_code01.ipynb\n",
        "## py05  (change to your id)\n",
        "- 조건문: if - elif - else\n",
        "    - 조건식\n",
        "        - 비교연산자(<, >, ==, !=, >=, <=) 사용\n",
        "        - 복합 조건식: or, and, not\n",
        "        - 조건식: in, not in, pass\n",
        "        - 단축조건식: 한 줄 코드 조건식\n",
        "- 반복문: while\n",
        "    - break\n",
        "    - continue"
      ]
    },
    {
      "cell_type": "markdown",
      "metadata": {
        "id": "tFaJXxSYqlPp"
      },
      "source": [
        "### 코드셀 분할 단축키\n",
        "- how to do ?\n",
        "      도구 > 단축키\n",
        "      커서에서 분할 : Ctrl+Equlas(Ctrl -)\n"
      ]
    },
    {
      "cell_type": "code",
      "metadata": {
        "id": "hXPcvn1CtW6z",
        "colab": {
          "base_uri": "https://localhost:8080/"
        },
        "outputId": "109598f3-9716-4742-f63c-1f19fe3c6657"
      },
      "source": [
        "# ch3_01_if_else.py\n",
        "#\n",
        "print(\"if문은 어떻게 사용?\")\n",
        "money = True\n",
        "if money:\n",
        "    print(\"택시를 타고 가라\")\n",
        "else:\n",
        "    print(\"걸어 가라\")\n"
      ],
      "execution_count": null,
      "outputs": [
        {
          "output_type": "stream",
          "text": [
            "if문은 어떻게 사용?\n",
            "택시를 타고 가라\n"
          ],
          "name": "stdout"
        }
      ]
    },
    {
      "cell_type": "code",
      "metadata": {
        "id": "g5dQykJxYenx",
        "colab": {
          "base_uri": "https://localhost:8080/"
        },
        "outputId": "d560f9cc-eb8b-468a-b2cb-9d8199905c2d"
      },
      "source": [
        "money = True # False\n",
        "if money:\n",
        "  print(\"택시 타세요.\")\n",
        "  print(\"집으로 ...\")\n",
        "else:\n",
        "  print(\"방콕!\")"
      ],
      "execution_count": null,
      "outputs": [
        {
          "output_type": "stream",
          "text": [
            "택시 타세요.\n",
            "집으로 ...\n"
          ],
          "name": "stdout"
        }
      ]
    },
    {
      "cell_type": "code",
      "metadata": {
        "colab": {
          "base_uri": "https://localhost:8080/"
        },
        "id": "aCPBg8jhnrIq",
        "outputId": "3b4fe9e5-890c-428d-8212-e3379f383160"
      },
      "source": [
        "\n",
        "\n",
        "############################\n",
        "print(\"if문의 기본 구조\")\n",
        "'''\n",
        "if 조건문:\n",
        "    수행할 문장1\n",
        "    수행할 문장2\n",
        "    ...\n",
        "else:\n",
        "    수행할 문장A\n",
        "    수행할 문장B\n",
        "    ...\n",
        "'''\n",
        "#\n",
        "############################\n",
        "print(\"들여 쓰기\")\n",
        "# 예-1\n",
        "money = True\n",
        "if money:\n",
        "    print(\"택시를\")\n",
        "    print(\"타고\") # 들여쓰기 에러\n",
        "    print(\"가라\")"
      ],
      "execution_count": null,
      "outputs": [
        {
          "output_type": "stream",
          "text": [
            "if문의 기본 구조\n",
            "들여 쓰기\n",
            "택시를\n",
            "타고\n",
            "가라\n"
          ],
          "name": "stdout"
        }
      ]
    },
    {
      "cell_type": "markdown",
      "metadata": {
        "id": "8ZsIK0LCoEEx"
      },
      "source": [
        "#Code scope(코드 적용 범위)"
      ]
    },
    {
      "cell_type": "markdown",
      "metadata": {
        "id": "U0Q4RrheoIj2"
      },
      "source": [
        "C,JAVA\n",
        "\n",
        "  -{...}\n",
        "\n",
        " Python\n",
        "    \n",
        "    -Indent(들여쓰기)"
      ]
    },
    {
      "cell_type": "code",
      "metadata": {
        "colab": {
          "base_uri": "https://localhost:8080/"
        },
        "id": "vueZavBtnz4c",
        "outputId": "878ec6c1-e6e1-456d-c6d7-99b2cc332825"
      },
      "source": [
        "\n",
        "#\n",
        "# 예-2\n",
        "money = True\n",
        "if money:\n",
        "    print(\"택시를\")\n",
        "    print(\"타고\")\n",
        "    print(\"가라\")"
      ],
      "execution_count": null,
      "outputs": [
        {
          "output_type": "stream",
          "text": [
            "택시를\n",
            "타고\n",
            "가라\n"
          ],
          "name": "stdout"
        }
      ]
    },
    {
      "cell_type": "code",
      "metadata": {
        "colab": {
          "base_uri": "https://localhost:8080/"
        },
        "id": "kppkh0t7ons9",
        "outputId": "c3739f1a-0cc9-4b8b-8fed-9d35fe1d3e08"
      },
      "source": [
        "###################################\n",
        "# 조건문 다음에 콜론(:)을 잊지 말자!\n",
        "###################################\n",
        "\n",
        "print(\"조건식: 비교연산자\")\n",
        "# 비교연산자(<, >, ==, !=, >=, <=)를 쓰는 방법\n",
        "x=3\n",
        "y=2\n",
        "x>y\n",
        "\n",
        "x<y\n",
        "x==y\n",
        "x!=y"
      ],
      "execution_count": null,
      "outputs": [
        {
          "output_type": "stream",
          "text": [
            "조건식: 비교연산자\n"
          ],
          "name": "stdout"
        },
        {
          "output_type": "execute_result",
          "data": {
            "text/plain": [
              "True"
            ]
          },
          "metadata": {
            "tags": []
          },
          "execution_count": 8
        }
      ]
    },
    {
      "cell_type": "code",
      "metadata": {
        "colab": {
          "base_uri": "https://localhost:8080/"
        },
        "id": "2Ji1Cvlyozql",
        "outputId": "37e8d0cc-faba-46f4-e8ad-92ecce83c127"
      },
      "source": [
        "\n",
        "\n",
        "###################################\n",
        "# 조건식 만들기\n",
        "###################################\n",
        "# \"만약 3000원 이상의 돈을 가지고 있으면 택시를 타고 그렇지 않으면 걸어 가라.\"\n",
        "money = 2000\n",
        "if money >= 3000:\n",
        "    print(\"택시를 타고 가라\")\n",
        "else:\n",
        "    print(\"걸어가라\")"
      ],
      "execution_count": null,
      "outputs": [
        {
          "output_type": "stream",
          "text": [
            "걸어가라\n"
          ],
          "name": "stdout"
        }
      ]
    },
    {
      "cell_type": "code",
      "metadata": {
        "colab": {
          "base_uri": "https://localhost:8080/"
        },
        "id": "uCg8AKAfo4zx",
        "outputId": "0b9a7e52-19b0-457c-c894-5840178420ca"
      },
      "source": [
        "money, money>3000"
      ],
      "execution_count": null,
      "outputs": [
        {
          "output_type": "execute_result",
          "data": {
            "text/plain": [
              "(2000, False)"
            ]
          },
          "metadata": {
            "tags": []
          },
          "execution_count": 13
        }
      ]
    },
    {
      "cell_type": "code",
      "metadata": {
        "colab": {
          "base_uri": "https://localhost:8080/"
        },
        "id": "Ayliy1grpCuK",
        "outputId": "e49fe0ac-bd20-44f1-e0c1-3d13b0e06c30"
      },
      "source": [
        "\n",
        "\n",
        "###################################\n",
        "# 복합 조건식: or, and, not\n",
        "###################################\n",
        "# 연산자\t설명\n",
        "# x or y  :\tx와 y 둘중에 하나만 참이면 참이다\n",
        "# x and y :\tx와 y 모두 참이어야 참이다\n",
        "# not x\t  : x가 거짓이면 참이다\n",
        "###################################\n",
        "# or 복합 조건식 이용\n",
        "# \"돈이 3000원 이상 있거나 카드가 있다면 택시를 타고 그렇지 않으면 걸어 가라.\"\n",
        "money = 2000\n",
        "card = True\n",
        "if money >= 3000 or card:\n",
        "    print(\"택시를 타고 가라\")\n",
        "else:\n",
        "    print(\"걸어가라\")"
      ],
      "execution_count": null,
      "outputs": [
        {
          "output_type": "stream",
          "text": [
            "택시를 타고 가라\n"
          ],
          "name": "stdout"
        }
      ]
    },
    {
      "cell_type": "markdown",
      "metadata": {
        "id": "Il9gIGsfpRbo"
      },
      "source": [
        "## \n",
        "조건식\n",
        "\n",
        "  \n",
        "    In\n",
        "    not in"
      ]
    },
    {
      "cell_type": "code",
      "metadata": {
        "colab": {
          "base_uri": "https://localhost:8080/"
        },
        "id": "XITJNJ0ppPO7",
        "outputId": "da5d9e7c-5a19-4698-f546-9287d5ec33d4"
      },
      "source": [
        "\n",
        "\n",
        "\n",
        "###################################\n",
        "# 조건식: in, not in\n",
        "###################################\n",
        "#   in\t          not in\n",
        "# x in 리스트\tx not in 리스트\n",
        "# x in 튜플\t    x not in 튜플\n",
        "# x in 문자열\tx not in 문자열\n",
        "###################################\n",
        "# list\n",
        "print(1 in [1, 2, 3])\n",
        "print(1 not in [1, 2, 3])\n",
        "# tuple\\\n",
        "print('a'in ('a', 'b', 'c'))\n",
        "#print('a' in ('a', 'b', 'c')) - NameError : name 'a' is not defined / 여기서 a 는 변수 a로 에러 \n",
        "# string\n",
        "print('j' not in 'python')\n",
        "print('p' in 'python')"
      ],
      "execution_count": null,
      "outputs": [
        {
          "output_type": "stream",
          "text": [
            "True\n",
            "False\n",
            "True\n",
            "True\n",
            "True\n"
          ],
          "name": "stdout"
        }
      ]
    },
    {
      "cell_type": "code",
      "metadata": {
        "colab": {
          "base_uri": "https://localhost:8080/"
        },
        "id": "7JUexO8YqQoq",
        "outputId": "277266d8-519b-4a67-d66e-61221d9164a4"
      },
      "source": [
        "'a' in 'abcefgh'"
      ],
      "execution_count": null,
      "outputs": [
        {
          "output_type": "execute_result",
          "data": {
            "text/plain": [
              "True"
            ]
          },
          "metadata": {
            "tags": []
          },
          "execution_count": 18
        }
      ]
    },
    {
      "cell_type": "code",
      "metadata": {
        "colab": {
          "base_uri": "https://localhost:8080/"
        },
        "id": "Otml2jrbq83s",
        "outputId": "66a1cc22-c133-44c3-fded-a97257059d09"
      },
      "source": [
        "\n",
        "\n",
        "# in을 이용한 코드\n",
        "# \"만약 주머니에 돈이 있으면 택시를 타고, 없으면 걸어 가라.\"\n",
        "pocket = ['paper', 'cellphone', 'money']\n",
        "if 'money' in pocket:\n",
        "    print(\"택시를 타고 가라\")\n",
        "else:\n",
        "    print(\"걸어가라\")\n"
      ],
      "execution_count": null,
      "outputs": [
        {
          "output_type": "stream",
          "text": [
            "택시를 타고 가라\n"
          ],
          "name": "stdout"
        }
      ]
    },
    {
      "cell_type": "code",
      "metadata": {
        "id": "zUMgwSs5q_Cn"
      },
      "source": [
        "\n",
        "\n",
        "###################################\n",
        "# 조건식: pass\n",
        "###################################\n",
        "pocket = ['paper', 'cellphone', 'money']\n",
        "if 'money' in pocket:\n",
        "    # print(\"택시를 타고 가라\")\n",
        "    pass\n",
        "else:\n",
        "    print(\"걸어가라\")"
      ],
      "execution_count": null,
      "outputs": []
    },
    {
      "cell_type": "markdown",
      "metadata": {
        "id": "I5OEsKa1rErW"
      },
      "source": [
        "다중 조건식 : elif\n",
        "\n",
        "> 다양한 조건을 판단\n",
        "\n"
      ]
    },
    {
      "cell_type": "code",
      "metadata": {
        "colab": {
          "base_uri": "https://localhost:8080/"
        },
        "id": "9T86bR6vrCKV",
        "outputId": "89da7c2c-4222-431c-bb1f-a8f2ba97a8a8"
      },
      "source": [
        "\n",
        "\n",
        "\n",
        "###################################\n",
        "# 다중 조건식: elif\n",
        "# 다양한 조건을 판단\n",
        "###################################\n",
        "# \"주머니에 돈이 있으면 택시를 타고, \n",
        "# 주머니에 돈은 없지만 카드가 있으면 택시를 타고, \n",
        "# 돈도 없고 카드도 없으면 걸어 가라.\"\n",
        "#\n",
        "pocket = ['paper', 'handphone']\n",
        "card = True\n",
        "if 'money' in pocket:\n",
        "    print(\"택시를 타고가라\")\n",
        "else:\n",
        "    if card:\n",
        "        print(\"택시를 타고가라\")\n",
        "    else:\n",
        "        print(\"걸어가라\")"
      ],
      "execution_count": null,
      "outputs": [
        {
          "output_type": "stream",
          "text": [
            "택시를 타고가라\n"
          ],
          "name": "stdout"
        }
      ]
    },
    {
      "cell_type": "code",
      "metadata": {
        "colab": {
          "base_uri": "https://localhost:8080/"
        },
        "id": "zI5ENfB_rZa3",
        "outputId": "23ce07d8-a65e-43ea-92cd-a28dc1c82398"
      },
      "source": [
        "\n",
        "\n",
        "\n",
        "# elif 이용한 코드\n",
        "pocket = ['paper', 'handphone']\n",
        "card = False #True\n",
        "if 'money' in pocket:\n",
        "    print(\"택시를 타고가라\")\n",
        "elif card:\n",
        "    print(\"택시를 타고가라\")\n",
        "else:\n",
        "    print(\"걸어가라\")\n"
      ],
      "execution_count": null,
      "outputs": [
        {
          "output_type": "stream",
          "text": [
            "걸어가라\n"
          ],
          "name": "stdout"
        }
      ]
    },
    {
      "cell_type": "markdown",
      "metadata": {
        "id": "s65eMKpnriDz"
      },
      "source": [
        "#단축 코드 만들기\n",
        "\n",
        "*   if문을 한 줄로 작성하기\n",
        "\n",
        "\n",
        "\n"
      ]
    },
    {
      "cell_type": "code",
      "metadata": {
        "id": "YgLNFsGtrbZh"
      },
      "source": [
        "\n",
        "\n",
        "###################################\n",
        "# if문을 한 줄로 작성하기\n",
        "###################################\n",
        "pocket = ['paper', 'cellphone', 'money']\n",
        "if 'money' in pocket:\n",
        "    pass\n",
        "else:\n",
        "    print(\"카드를 사용해라.\")"
      ],
      "execution_count": null,
      "outputs": []
    },
    {
      "cell_type": "code",
      "metadata": {
        "id": "LI5C-p6Xrr52"
      },
      "source": [
        "\n",
        "\n",
        "\n",
        "# 한줄 코드\n",
        "if 'money' in pocket: pass\n",
        "else: print(\"카드를 사용해라.\")"
      ],
      "execution_count": null,
      "outputs": []
    },
    {
      "cell_type": "code",
      "metadata": {
        "colab": {
          "base_uri": "https://localhost:8080/"
        },
        "id": "HE-WAUWWruuM",
        "outputId": "fc99468c-b193-46c5-85f9-cc3cc819b1bd"
      },
      "source": [
        "\n",
        "\n",
        "\n",
        "######################################################\n",
        "# 조건부 표현식 (conditional expression)\n",
        "# 조건문이 참인 경우 if 조건문 else 조건문이 거짓인 경우\n",
        "######################################################\n",
        "score=80\n",
        "if score >= 60:\n",
        "    message = \"success\"\n",
        "else:\n",
        "    message = \"failure\"\n",
        "\n",
        "print(message)"
      ],
      "execution_count": null,
      "outputs": [
        {
          "output_type": "stream",
          "text": [
            "success\n"
          ],
          "name": "stdout"
        }
      ]
    },
    {
      "cell_type": "code",
      "metadata": {
        "colab": {
          "base_uri": "https://localhost:8080/"
        },
        "id": "PCLIbRDtr5df",
        "outputId": "6cf3a566-ad15-48fc-86f7-ab9aaec97b41"
      },
      "source": [
        "\n",
        "\n",
        "# 한줄 코드\n",
        "score = 50\n",
        "message = \"success\" if score >= 60 else \"failure\"\n",
        "print(message)\n"
      ],
      "execution_count": null,
      "outputs": [
        {
          "output_type": "stream",
          "text": [
            "failure\n"
          ],
          "name": "stdout"
        }
      ]
    },
    {
      "cell_type": "markdown",
      "metadata": {
        "id": "9MVsonLKsCVP"
      },
      "source": [
        "## 반복문\n",
        "\n",
        "*   while\n",
        "*   for\n",
        "\n"
      ]
    },
    {
      "cell_type": "code",
      "metadata": {
        "id": "0Y0fMfkPtW62",
        "colab": {
          "base_uri": "https://localhost:8080/"
        },
        "outputId": "e875b914-4d51-4062-81d6-0e14e2fa8ccd"
      },
      "source": [
        "# ch3_02_whie.py\n",
        "#\n",
        "print(\"while 문은 어떻게 사용?\")\n",
        "# 반복해서 문장을 수행해야 할 경우 while문을 사용한다. \n",
        "# 그래서 while문을 반복문이라고도 부른다.\n",
        "\n",
        "############################\n",
        "print(\"while문의 기본 구조\")\n",
        "'''\n",
        "while <조건문>:\n",
        "    <수행할 문장1>\n",
        "    <수행할 문장2>\n",
        "    <수행할 문장3>\n",
        "    ...\n",
        "'''\n",
        "print('----------------------')\n",
        "# \"열 번 찍어 안 넘어가는 나무 없다\"는 속담을 파이썬 프로그램으로 반복 실행\n",
        "treeHit = 0\n",
        "while treeHit < 10:\n",
        "    treeHit = treeHit +1\n",
        "    print(\"나무를 %d번 찍었습니다.\" % treeHit)\n",
        "    if treeHit == 10:\n",
        "        print(\"나무 넘어갑니다.\")\n"
      ],
      "execution_count": null,
      "outputs": [
        {
          "output_type": "stream",
          "text": [
            "while 문은 어떻게 사용?\n",
            "while문의 기본 구조\n",
            "----------------------\n",
            "나무를 1번 찍었습니다.\n",
            "나무를 2번 찍었습니다.\n",
            "나무를 3번 찍었습니다.\n",
            "나무를 4번 찍었습니다.\n",
            "나무를 5번 찍었습니다.\n",
            "나무를 6번 찍었습니다.\n",
            "나무를 7번 찍었습니다.\n",
            "나무를 8번 찍었습니다.\n",
            "나무를 9번 찍었습니다.\n",
            "나무를 10번 찍었습니다.\n",
            "나무 넘어갑니다.\n"
          ],
          "name": "stdout"
        }
      ]
    },
    {
      "cell_type": "code",
      "metadata": {
        "colab": {
          "base_uri": "https://localhost:8080/"
        },
        "id": "-vpIohjdsNe6",
        "outputId": "26344b46-47a2-410d-acd2-0688af35b414"
      },
      "source": [
        "\n",
        "\n",
        "#\n",
        "############################\n",
        "print(\"while문 만들기\")\n",
        "#\n",
        "prompt = \"\"\"\n",
        "1. Add\n",
        "2. Del\n",
        "3. List\n",
        "4. Quit\n",
        "Enter number: \"\"\"\n",
        "print(prompt)\n",
        "number = 0\n",
        "while number != 4:\n",
        "    print(prompt)\n",
        "    number = int(input()) # input은 키보드로 입력받음"
      ],
      "execution_count": null,
      "outputs": [
        {
          "output_type": "stream",
          "text": [
            "while문 만들기\n",
            "\n",
            "1. Add\n",
            "2. Del\n",
            "3. List\n",
            "4. Quit\n",
            "Enter number: \n",
            "\n",
            "1. Add\n",
            "2. Del\n",
            "3. List\n",
            "4. Quit\n",
            "Enter number: \n",
            "1\n",
            "\n",
            "1. Add\n",
            "2. Del\n",
            "3. List\n",
            "4. Quit\n",
            "Enter number: \n",
            "2\n",
            "\n",
            "1. Add\n",
            "2. Del\n",
            "3. List\n",
            "4. Quit\n",
            "Enter number: \n",
            "3\n",
            "\n",
            "1. Add\n",
            "2. Del\n",
            "3. List\n",
            "4. Quit\n",
            "Enter number: \n",
            "4\n"
          ],
          "name": "stdout"
        }
      ]
    },
    {
      "cell_type": "code",
      "metadata": {
        "colab": {
          "base_uri": "https://localhost:8080/"
        },
        "id": "0XEkFYjNsVZk",
        "outputId": "c13b7a42-37e7-452b-ed4a-715e8fd32ab2"
      },
      "source": [
        "\n",
        "\n",
        "\n",
        "#\n",
        "###################################\n",
        "print(\"while문 강제로 빠져나가기\")\n",
        "###################################\n",
        "# 커피 자판기 작동\n",
        "# 자판기가 제대로 작동하려면 커피가 얼마나 남았는지 항상 검사해야 한다. \n",
        "# 만약 커피가 떨어졌다면 판매를 중단하고 \"판매 중지\" 문구를 사용자에게 보여준다.\n",
        "#\n",
        "coffee = 10\n",
        "money = 300\n",
        "while money:\n",
        "    print(\"돈을 받았으니 커피를 줍니다.\")\n",
        "    coffee = coffee -1\n",
        "    print(\"남은 커피의 양은 %d개입니다.\" % coffee)\n",
        "    if coffee == 0:\n",
        "        print(\"커피가 다 떨어졌습니다. 판매를 중지합니다.\")\n",
        "        break"
      ],
      "execution_count": null,
      "outputs": [
        {
          "output_type": "stream",
          "text": [
            "while문 강제로 빠져나가기\n",
            "돈을 받았으니 커피를 줍니다.\n",
            "남은 커피의 양은 9개입니다.\n",
            "돈을 받았으니 커피를 줍니다.\n",
            "남은 커피의 양은 8개입니다.\n",
            "돈을 받았으니 커피를 줍니다.\n",
            "남은 커피의 양은 7개입니다.\n",
            "돈을 받았으니 커피를 줍니다.\n",
            "남은 커피의 양은 6개입니다.\n",
            "돈을 받았으니 커피를 줍니다.\n",
            "남은 커피의 양은 5개입니다.\n",
            "돈을 받았으니 커피를 줍니다.\n",
            "남은 커피의 양은 4개입니다.\n",
            "돈을 받았으니 커피를 줍니다.\n",
            "남은 커피의 양은 3개입니다.\n",
            "돈을 받았으니 커피를 줍니다.\n",
            "남은 커피의 양은 2개입니다.\n",
            "돈을 받았으니 커피를 줍니다.\n",
            "남은 커피의 양은 1개입니다.\n",
            "돈을 받았으니 커피를 줍니다.\n",
            "남은 커피의 양은 0개입니다.\n",
            "커피가 다 떨어졌습니다. 판매를 중지합니다.\n"
          ],
          "name": "stdout"
        }
      ]
    },
    {
      "cell_type": "code",
      "metadata": {
        "colab": {
          "base_uri": "https://localhost:8080/"
        },
        "id": "nen8HfETtIj8",
        "outputId": "1f79d9d5-f92e-470c-b390-e9f630102d4b"
      },
      "source": [
        "bool(300)"
      ],
      "execution_count": null,
      "outputs": [
        {
          "output_type": "execute_result",
          "data": {
            "text/plain": [
              "True"
            ]
          },
          "metadata": {
            "tags": []
          },
          "execution_count": 45
        }
      ]
    },
    {
      "cell_type": "code",
      "metadata": {
        "cellView": "code",
        "id": "M6utxRxrxIJg"
      },
      "source": [
        "\n",
        "\n",
        "###################################\n",
        "#coffee.py\n",
        "###################################\n",
        "\"\"\"\n",
        "coffee = 10\n",
        "while True:\n",
        "    money = int(input(\"돈을 넣어 주세요: \"))\n",
        "    if money == 300:\n",
        "        print(\"커피를 줍니다.\")\n",
        "        coffee = coffee -1\n",
        "    elif money > 300:\n",
        "        print(\"거스름돈 %d를 주고 커피를 줍니다.\" % (money -300))\n",
        "        coffee = coffee -1\n",
        "    else:\n",
        "        print(\"돈을 다시 돌려주고 커피를 주지 않습니다.\")\n",
        "        print(\"남은 커피의 양은 %d개 입니다.\" % coffee)\n",
        "    if coffee == 0:\n",
        "        print(\"커피가 다 떨어졌습니다. 판매를 중지 합니다.\")\n",
        "        break\n",
        "\"\"\""
      ],
      "execution_count": null,
      "outputs": []
    },
    {
      "cell_type": "markdown",
      "metadata": {
        "id": "euFywb3StQxV"
      },
      "source": [
        "## colab에서 python 소스 실행하기\n",
        "\n",
        "*   run coffee.py\n",
        "\n",
        "\n"
      ]
    },
    {
      "cell_type": "code",
      "metadata": {
        "colab": {
          "base_uri": "https://localhost:8080/"
        },
        "id": "M0PPr1rFtbb_",
        "outputId": "134d9807-f7fb-4146-e7bc-ff6fdd1d022c"
      },
      "source": [
        "run coffee.py"
      ],
      "execution_count": 6,
      "outputs": [
        {
          "output_type": "stream",
          "text": [
            "돈을 넣어 주세요: 300\n",
            "커피를 줍니다.\n",
            "돈을 넣어 주세요: 500\n",
            "거스름돈 200를 주고 커피를 줍니다.\n",
            "돈을 넣어 주세요: 600\n",
            "거스름돈 300를 주고 커피를 줍니다.\n",
            "돈을 넣어 주세요: 200\n",
            "돈을 다시 돌려주고 커피를 주지 않습니다.\n",
            "남은 커피의 양은 2개 입니다.\n",
            "돈을 넣어 주세요: 300\n",
            "커피를 줍니다.\n",
            "돈을 넣어 주세요: 300\n",
            "커피를 줍니다.\n",
            "커피가 다 떨어졌습니다. 판매를 중지 합니다.\n"
          ],
          "name": "stdout"
        }
      ]
    },
    {
      "cell_type": "code",
      "metadata": {
        "id": "EaQUvVUl7wgC"
      },
      "source": [
        "coffee = 10\n",
        "while True:\n",
        "  money = int(input(\"돈을 넣어 주세요: \"))\n",
        "    if money == 300:\n",
        "        print(\"커피를 줍니다.\")\n",
        "        coffee = coffee -1\n",
        "    elif money > 300:\n",
        "        print(\"거스름돈 %d를 주고 커피를 줍니다.\" % (money -300))\n",
        "        coffee = coffee -1\n",
        "    else:\n",
        "        print(\"돈을 다시 돌려주고 커피를 주지 않습니다.\")\n",
        "        print(\"남은 커피의 양은 %d개 입니다.\" % coffee)\n",
        "    if coffee == 0:\n",
        "        print(\"커피가 다 떨어졌습니다. 판매를 중지 합니다.\")\n",
        "        break"
      ],
      "execution_count": null,
      "outputs": []
    },
    {
      "cell_type": "markdown",
      "metadata": {
        "id": "teahh7F272QY"
      },
      "source": [
        "##continue 이용"
      ]
    },
    {
      "cell_type": "code",
      "metadata": {
        "id": "Mt1QlxUVtMTA",
        "colab": {
          "base_uri": "https://localhost:8080/"
        },
        "outputId": "75415cb0-16b2-413f-8f9e-13865ac72a17"
      },
      "source": [
        "\n",
        "\n",
        "#\n",
        "###################################\n",
        "print(\"while문의 맨 처음으로 돌아가기: continue\")\n",
        "###################################\n",
        "# while문을 빠져나가지 않고 while문의 맨 처음(조건문)으로 \n",
        "# 다시 돌아가게 만들고 싶은 경우가 생기게 된다. \n",
        "# 이때 사용하는 것이 바로 continue문이다.\n",
        "#\n",
        "# 1부터 10까지의 숫자 중에서 홀수만 출력하는 것을 while문을 사용해서 작성\n",
        "#\n",
        "a = 0\n",
        "while a < 10:\n",
        "    a = a + 1\n",
        "    if a % 2 == 0: continue\n",
        "    print(a)\n"
      ],
      "execution_count": 7,
      "outputs": [
        {
          "output_type": "stream",
          "text": [
            "while문의 맨 처음으로 돌아가기: continue\n",
            "1\n",
            "3\n",
            "5\n",
            "7\n",
            "9\n"
          ],
          "name": "stdout"
        }
      ]
    },
    {
      "cell_type": "code",
      "metadata": {
        "id": "j7eNd2aM75TO"
      },
      "source": [
        "\n",
        "\n",
        "#\n",
        "###################################\n",
        "print(\"while문의 무한 루프\")\n",
        "###################################\n",
        "#\n",
        "\"\"\"\n",
        "while True: \n",
        "    수행할 문장1 \n",
        "    수행할 문장2\n",
        "    ...\n",
        "\"\"\"\n",
        "# 무한루프 코드의 예 (^C로 중지 !!! ----->> 파이썬 명령 셀)\n",
        "while True:\n",
        "    print(\"Ctrl+C를 눌러야 while문을 빠져나갈 수 있습니다.\")\n",
        "# colab에서는 런타임 실행 중단으로 멈출 수 있다.\n"
      ],
      "execution_count": null,
      "outputs": []
    },
    {
      "cell_type": "code",
      "metadata": {
        "id": "Nn87uHUqtW64"
      },
      "source": [
        ""
      ],
      "execution_count": null,
      "outputs": []
    }
  ]
}