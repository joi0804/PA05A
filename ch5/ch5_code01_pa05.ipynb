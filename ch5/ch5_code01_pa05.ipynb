{
  "nbformat": 4,
  "nbformat_minor": 0,
  "metadata": {
    "colab": {
      "name": "ch5_code01_pa05.ipynb",
      "provenance": [],
      "collapsed_sections": [],
      "include_colab_link": true
    },
    "kernelspec": {
      "display_name": "Python 3",
      "language": "python",
      "name": "python3"
    },
    "language_info": {
      "codemirror_mode": {
        "name": "ipython",
        "version": 3
      },
      "file_extension": ".py",
      "mimetype": "text/x-python",
      "name": "python",
      "nbconvert_exporter": "python",
      "pygments_lexer": "ipython3",
      "version": "3.7.5"
    }
  },
  "cells": [
    {
      "cell_type": "markdown",
      "metadata": {
        "id": "view-in-github",
        "colab_type": "text"
      },
      "source": [
        "<a href=\"https://colab.research.google.com/github/joi0804/PA05A/blob/main/ch5/ch5_code01_pa05.ipynb\" target=\"_parent\"><img src=\"https://colab.research.google.com/assets/colab-badge.svg\" alt=\"Open In Colab\"/></a>"
      ]
    },
    {
      "cell_type": "markdown",
      "metadata": {
        "id": "H4jNE-BMAK3f"
      },
      "source": [
        "# ch5_code01_pa05.ipynb\n",
        "## 5장 파이썬 날개달기\n",
        "## py05  (change to your id)\n",
        "### 클래스, 모듈, 패키지\n",
        "---\n",
        "- 클래스\n",
        "   - 클래스는 왜 필요한가?\n",
        "   - 클래스와 객체\n",
        "   - 사칙연산 클래스 만들기\n",
        "     - 클래스를 어떻게 만들지 먼저 구상하기\n",
        "     - 클래스 구조 만들기\n",
        "     - 객체에 숫자 지정할 수 있게 만들기\n",
        "     - 더하기 기능 만들기\n",
        "     - 곱하기, 빼기, 나누기 기능 만들기\n",
        "   - 생성자 (Constructor)\n",
        "   - 클래스의 상속\n",
        "   - 메서드 오버라이딩\n",
        "   - 클래스 변수"
      ]
    },
    {
      "cell_type": "code",
      "metadata": {
        "id": "hXPcvn1CtW6z",
        "colab": {
          "base_uri": "https://localhost:8080/"
        },
        "outputId": "ad1a287c-da88-4c66-81dd-dca35f5fd189"
      },
      "source": [
        "# ch5_01_class.py\n",
        "#\n",
        "print(\"클래스란 무엇인가?\")\n",
        "#######################################\n",
        "# 클래스(class)\n",
        "#######################################\n"
      ],
      "execution_count": null,
      "outputs": [
        {
          "output_type": "stream",
          "text": [
            "클래스란 무엇인가?\n"
          ],
          "name": "stdout"
        }
      ]
    },
    {
      "cell_type": "code",
      "metadata": {
        "colab": {
          "base_uri": "https://localhost:8080/"
        },
        "id": "Jf_wJj8j1KVi",
        "outputId": "ea35969c-8d5f-47f3-e3b3-fa0749afb95d"
      },
      "source": [
        "\n",
        "print(\"클래스는 왜 필요한가?\")\n",
        "#######################################\n",
        "# 지정된 기능을 수행하는 변수와 함수의 모음\n",
        "# 인스턴스, 즉 객체를 생성하여 기능을 이용\n",
        "# 코딩을 객체화\n",
        "#######################################\n",
        "# \n",
        "# [예] 이전에 계산한 결괏값을 기억하고 있는 계산기\n",
        "# \n",
        "result = 0\n",
        "\n",
        "def add(num):\n",
        "    global result\n",
        "    result += num\n",
        "    return result\n",
        "\n",
        "\n",
        "# 이전에 계산한 결괏값을 기억\n",
        "print(add(3))\n",
        "print(add(4))\n"
      ],
      "execution_count": null,
      "outputs": [
        {
          "output_type": "stream",
          "text": [
            "클래스는 왜 필요한가?\n",
            "3\n",
            "7\n"
          ],
          "name": "stdout"
        }
      ]
    },
    {
      "cell_type": "code",
      "metadata": {
        "colab": {
          "base_uri": "https://localhost:8080/"
        },
        "id": "Qr7SqUaO1TK7",
        "outputId": "4c91a877-9e9e-430d-b716-cecbc40da29a"
      },
      "source": [
        "result"
      ],
      "execution_count": null,
      "outputs": [
        {
          "output_type": "execute_result",
          "data": {
            "text/plain": [
              "7"
            ]
          },
          "metadata": {
            "tags": []
          },
          "execution_count": 3
        }
      ]
    },
    {
      "cell_type": "code",
      "metadata": {
        "colab": {
          "base_uri": "https://localhost:8080/"
        },
        "id": "fc9UF0S51QNS",
        "outputId": "cd126071-c1f6-4ce8-bfab-991911c11118"
      },
      "source": [
        "\n",
        "# 2대의 계산기가 필요한 상황이 발생하면?\n",
        "result1 = 0\n",
        "result2 = 0\n",
        "\n",
        "def add1(num):\n",
        "    global result1\n",
        "    result1 += num\n",
        "    return result1\n",
        "\n",
        "\n",
        "def add2(num):\n",
        "    global result2\n",
        "    result2 += num\n",
        "    return result2\n",
        "\n",
        "\n",
        "\n",
        "print(add1(3))\n",
        "print(add1(4))\n",
        "print(add2(3))\n",
        "print(add2(7))\n",
        "\n",
        "# 계산기 1의 결괏값이 계산기 2에 아무 영향을 끼치지 않음을 확인할 수 있다. \n",
        "# 하지만 계산기가 3개, 5개, 10개로 점점 더 많이 필요해진다면 어떻게 해야 할까? \n",
        "# 그때마다 전역 변수와 함수를 추가할 것인가? \n"
      ],
      "execution_count": null,
      "outputs": [
        {
          "output_type": "stream",
          "text": [
            "3\n",
            "7\n",
            "3\n",
            "10\n"
          ],
          "name": "stdout"
        }
      ]
    },
    {
      "cell_type": "code",
      "metadata": {
        "colab": {
          "base_uri": "https://localhost:8080/"
        },
        "id": "on1g4iKY1Zg5",
        "outputId": "7c1cbfe6-02cb-4069-e1f3-ad2030da3c2e"
      },
      "source": [
        "result1,result2"
      ],
      "execution_count": null,
      "outputs": [
        {
          "output_type": "execute_result",
          "data": {
            "text/plain": [
              "(7, 10)"
            ]
          },
          "metadata": {
            "tags": []
          },
          "execution_count": 5
        }
      ]
    },
    {
      "cell_type": "markdown",
      "metadata": {
        "id": "7SVvJ0B61dXq"
      },
      "source": [
        "# 클래스를 설계"
      ]
    },
    {
      "cell_type": "code",
      "metadata": {
        "colab": {
          "base_uri": "https://localhost:8080/"
        },
        "id": "dRgtqLbM1XFg",
        "outputId": "4f9ce9b0-a723-493f-fd3b-9555bbe753ab"
      },
      "source": [
        "\n",
        "#######################################\n",
        "print(\"클래스를 사용하면 간단하게 해결\")\n",
        "#######################################\n",
        "# class Calculator\n",
        "class Calculator:\n",
        "    def __init__(self):\n",
        "        self.result = 0\n",
        "\n",
        "    def add(self, num):\n",
        "        self.result += num\n",
        "        return self.result\n",
        "    \n",
        "    # def sub(self, num):\n",
        "    #     self.result -= num\n",
        "    #     return self.result\n"
      ],
      "execution_count": null,
      "outputs": [
        {
          "output_type": "stream",
          "text": [
            "클래스를 사용하면 간단하게 해결\n"
          ],
          "name": "stdout"
        }
      ]
    },
    {
      "cell_type": "code",
      "metadata": {
        "colab": {
          "base_uri": "https://localhost:8080/"
        },
        "id": "YzRU-gEe1heF",
        "outputId": "cbf3c48b-3a60-48b5-c996-9adafc6e5347"
      },
      "source": [
        "cal1 = Calculator()\n",
        "cal2 = Calculator()\n",
        "\n",
        "print(cal1.add(3))\n",
        "print(cal1.add(4))\n",
        "print(cal2.add(3))\n",
        "print(cal2.add(7))\n"
      ],
      "execution_count": null,
      "outputs": [
        {
          "output_type": "stream",
          "text": [
            "3\n",
            "7\n",
            "3\n",
            "10\n"
          ],
          "name": "stdout"
        }
      ]
    },
    {
      "cell_type": "code",
      "metadata": {
        "colab": {
          "base_uri": "https://localhost:8080/"
        },
        "id": "wNUvZFLJ1qMA",
        "outputId": "33b9ccad-d6c5-4833-854a-a5374e744103"
      },
      "source": [
        "cal3 = Calculator()\n",
        "cal3.add(10)"
      ],
      "execution_count": null,
      "outputs": [
        {
          "output_type": "execute_result",
          "data": {
            "text/plain": [
              "10"
            ]
          },
          "metadata": {
            "tags": []
          },
          "execution_count": 9
        }
      ]
    },
    {
      "cell_type": "code",
      "metadata": {
        "colab": {
          "base_uri": "https://localhost:8080/"
        },
        "id": "cbeapVQ_1u-Y",
        "outputId": "939a0b72-09b6-41fe-95ba-938f5f841b89"
      },
      "source": [
        "cal3.add(40)"
      ],
      "execution_count": null,
      "outputs": [
        {
          "output_type": "execute_result",
          "data": {
            "text/plain": [
              "50"
            ]
          },
          "metadata": {
            "tags": []
          },
          "execution_count": 10
        }
      ]
    },
    {
      "cell_type": "code",
      "metadata": {
        "id": "P345Nxc01nF3"
      },
      "source": [
        "# \n",
        "# 뺄셈(sub)을 추가하고 클래스의 객체를 다시 만들어서 사용한다.\n",
        "# \n",
        "# class Calculator\n",
        "class Calculator:\n",
        "    def __init__(self):\n",
        "        self.result = 0\n",
        "\n",
        "    def add(self, num):\n",
        "        self.result += num\n",
        "        return self.result\n",
        "        \n",
        "    def sub(self, num):\n",
        "        self.result -= num\n",
        "        return self.result"
      ],
      "execution_count": null,
      "outputs": []
    },
    {
      "cell_type": "code",
      "metadata": {
        "colab": {
          "base_uri": "https://localhost:8080/"
        },
        "id": "vqtIXYWE19d7",
        "outputId": "8edf9c78-c565-42ed-d374-4c31b959c48c"
      },
      "source": [
        "cal = Calculator()\n",
        "cal.add(100)\n",
        "cal.sub(50)"
      ],
      "execution_count": null,
      "outputs": [
        {
          "output_type": "execute_result",
          "data": {
            "text/plain": [
              "50"
            ]
          },
          "metadata": {
            "tags": []
          },
          "execution_count": 13
        }
      ]
    },
    {
      "cell_type": "code",
      "metadata": {
        "colab": {
          "base_uri": "https://localhost:8080/"
        },
        "id": "UhjdTZ8i11W1",
        "outputId": "ec6e85ba-19ba-4295-dcf0-d539bc6d9b53"
      },
      "source": [
        "\n",
        "print(\"클래스와 객체\")\n",
        "#######################################\n",
        "# 클래스(class)란 똑같은 무엇인가를 계속해서 만들어 낼 수 있는 설계 도면\n",
        "# 객체(object)란 클래스로 만든 피조물(과자 틀을 사용해 만든 과자)\n",
        "#\n",
        "# 클래스(class) : 과자 틀 \n",
        "# 객체(object) : 과자 틀을 사용해 만든 과자\n",
        "#\n",
        "# 동일한 클래스로 만든 객체들은 서로 전혀 영향을 주지 않는다.\n",
        "#######################################\n",
        "\n",
        "# 간단한 클래스와 객체 \n",
        "class Cookie:\n",
        "    pass\n",
        "\n",
        "a = Cookie()\n",
        "b = Cookie()\n",
        "id(a), id(b), id(a) == id(b)\n"
      ],
      "execution_count": null,
      "outputs": [
        {
          "output_type": "stream",
          "text": [
            "클래스와 객체\n"
          ],
          "name": "stdout"
        },
        {
          "output_type": "execute_result",
          "data": {
            "text/plain": [
              "(139688661987088, 139688661784144, False)"
            ]
          },
          "metadata": {
            "tags": []
          },
          "execution_count": 16
        }
      ]
    },
    {
      "cell_type": "markdown",
      "metadata": {
        "id": "lPwQZ5hj2LnP"
      },
      "source": [
        "## 객체와 인스턴스의 차이\n",
        "\n",
        "a =  Cookie() 이렇게 만든 a는 객체이다\n",
        "\n",
        "> 즉 인스턴스라는 말은 특정 객체(a)가 어떤 클래스(Cookie)의 객체인지를 관계 위주로 설명할 때 사용한다\n"
      ]
    },
    {
      "cell_type": "code",
      "metadata": {
        "colab": {
          "base_uri": "https://localhost:8080/"
        },
        "id": "QzSWmUgn2HQL",
        "outputId": "5b89c7ec-2190-4ad1-a0c1-69477384d484"
      },
      "source": [
        "\n",
        "# 객체와 인스턴스의 차이\n",
        "#  a = Cookie() 이렇게 만든 a는 객체이다. \n",
        "# 그리고 a 객체는 Cookie의 인스턴스이다. \n",
        "# 즉 인스턴스라는 말은 특정 객체(a)가 \n",
        "# 어떤 클래스(Cookie)의 객체인지를 \n",
        "# 관계 위주로 설명할 때 사용한다\n",
        "\n",
        "print(\"사칙연산 클래스 만들기\")\n",
        "#######################################\n",
        "# 사칙연산을 가능하게 하는 FourCal 클래스\n",
        "# class FourCal\n",
        "#\n",
        "# Usage:\n",
        "# a = FourCal()\n",
        "# a.setdata(4, 2)\n",
        "# a.add(), a.sub(), a.mul(), a.div()\n",
        "#\n",
        "#######################################"
      ],
      "execution_count": null,
      "outputs": [
        {
          "output_type": "stream",
          "text": [
            "사칙연산 클래스 만들기\n"
          ],
          "name": "stdout"
        }
      ]
    },
    {
      "cell_type": "code",
      "metadata": {
        "colab": {
          "base_uri": "https://localhost:8080/"
        },
        "id": "Z65euVue2YzD",
        "outputId": "0fbe4a13-48ca-4cd9-a943-8de0850a026d"
      },
      "source": [
        "\n",
        "print(\"1. FourCal 클래스 구조 만들기\")\n",
        "\n",
        "class FourCal:\n",
        "    pass\n",
        "\n",
        "\n",
        "# 객체 만들기\n",
        "a = FourCal()\n",
        "type(a), id(a)\n"
      ],
      "execution_count": null,
      "outputs": [
        {
          "output_type": "stream",
          "text": [
            "1. FourCal 클래스 구조 만들기\n"
          ],
          "name": "stdout"
        },
        {
          "output_type": "execute_result",
          "data": {
            "text/plain": [
              "(__main__.FourCal, 139688661858960)"
            ]
          },
          "metadata": {
            "tags": []
          },
          "execution_count": 18
        }
      ]
    },
    {
      "cell_type": "code",
      "metadata": {
        "colab": {
          "base_uri": "https://localhost:8080/"
        },
        "id": "UaezqJ342b95",
        "outputId": "fea966c8-49d6-40c1-9f20-bb32f184f40c"
      },
      "source": [
        "\n",
        "#######################################\n",
        "print(\"2. 객체에 숫자 지정할 수 있게 만들기\")\n",
        "# function setdata()  # method\n",
        "\n",
        "class FourCal:\n",
        "   def setdata(self, first, second):\n",
        "       self.first = first\n",
        "       self.second = second\n",
        "\n"
      ],
      "execution_count": null,
      "outputs": [
        {
          "output_type": "stream",
          "text": [
            "2. 객체에 숫자 지정할 수 있게 만들기\n"
          ],
          "name": "stdout"
        }
      ]
    },
    {
      "cell_type": "code",
      "metadata": {
        "colab": {
          "base_uri": "https://localhost:8080/"
        },
        "id": "yPPjMvO_2fS6",
        "outputId": "2ce04e66-2e21-4aff-b958-0517fd6a8d62"
      },
      "source": [
        "a = FourCal()\n",
        "a.setdata(4, 2)\n",
        "\n",
        "# 객체 변수\n",
        "a.first    # self.first\n",
        "a.second   # self.second\n",
        "a.first, a.second\n"
      ],
      "execution_count": null,
      "outputs": [
        {
          "output_type": "execute_result",
          "data": {
            "text/plain": [
              "(4, 2)"
            ]
          },
          "metadata": {
            "tags": []
          },
          "execution_count": 20
        }
      ]
    },
    {
      "cell_type": "code",
      "metadata": {
        "colab": {
          "base_uri": "https://localhost:8080/"
        },
        "id": "c-GDHyDt2kXU",
        "outputId": "a9763f1a-5bd9-45bd-e2ca-981ab42e5491"
      },
      "source": [
        "\n",
        "# 객체를 이용하기\n",
        "a = FourCal()\n",
        "b = FourCal()\n",
        "\n",
        "print(a is b)\n",
        "\n",
        "type(a), id(a)\n",
        "type(b), id(b)\n",
        "\n",
        "a.setdata(4, 2)\n",
        "print(a.first)\n",
        "b.setdata(3, 7)\n",
        "print(b.first)\n",
        "\n",
        "print(a.first)  # what value?\n",
        "# a 객체의 first 값은 b 객체의 first 값에 영향받지 않고 원래 값을 유지\n",
        "# 클래스로 만든 객체의 객체변수는 다른 객체의 객체변수에 상관없이 독립적인 값을 유지\n",
        "\n",
        "id(a.first), id(b.first)\n"
      ],
      "execution_count": null,
      "outputs": [
        {
          "output_type": "stream",
          "text": [
            "False\n",
            "4\n",
            "3\n",
            "4\n"
          ],
          "name": "stdout"
        },
        {
          "output_type": "execute_result",
          "data": {
            "text/plain": [
              "(94346685504096, 94346685504064)"
            ]
          },
          "metadata": {
            "tags": []
          },
          "execution_count": 22
        }
      ]
    },
    {
      "cell_type": "code",
      "metadata": {
        "colab": {
          "base_uri": "https://localhost:8080/"
        },
        "id": "tClAuFVj2onM",
        "outputId": "81e9922c-4031-4a00-a5a3-5281b2e16984"
      },
      "source": [
        "#######################################\n",
        "print(\"3. 더하기 기능 만들기\")\n",
        "# function add()  # method\n",
        "\n",
        "class FourCal:\n",
        "    def setdata(self, first, second):\n",
        "        self.first = first\n",
        "        self.second = second\n",
        "\n",
        "    def add(self):\n",
        "        result = self.first + self.second\n",
        "        return result\n",
        "    \n",
        "\n",
        "a = FourCal()\n",
        "a.setdata(4, 2)\n",
        "a.add()\n"
      ],
      "execution_count": null,
      "outputs": [
        {
          "output_type": "stream",
          "text": [
            "3. 더하기 기능 만들기\n"
          ],
          "name": "stdout"
        },
        {
          "output_type": "execute_result",
          "data": {
            "text/plain": [
              "6"
            ]
          },
          "metadata": {
            "tags": []
          },
          "execution_count": 23
        }
      ]
    },
    {
      "cell_type": "code",
      "metadata": {
        "colab": {
          "base_uri": "https://localhost:8080/"
        },
        "id": "BASPahgZ2xgb",
        "outputId": "f84ece67-2927-4299-e1a1-eb745f61291c"
      },
      "source": [
        "#######################################\n",
        "print(\"4. 곱하기, 빼기, 나누기 기능 추가\")\n",
        "# function sub(), mul(), div()\n",
        "\n",
        "class FourCal:\n",
        "    def setdata(self, first, second):\n",
        "        self.first = first\n",
        "        self.second = second\n",
        "        \n",
        "    def add(self):\n",
        "        result = self.first + self.second\n",
        "        return result\n",
        "\n",
        "    def sub(self):\n",
        "        result = self.first - self.second\n",
        "        return result\n",
        "\n",
        "    def mul(self):\n",
        "        result = self.first * self.second\n",
        "        return result\n",
        "\n",
        "    def div(self):\n",
        "        result = self.first / self.second\n",
        "        return result\n",
        "    \n",
        "\n",
        "  \n",
        "a = FourCal()\n",
        "b = FourCal()\n",
        "\n",
        "a.setdata(4, 2)\n",
        "b.setdata(3, 8)\n",
        "\n",
        "print(a.add(), a.sub(), a.mul(), a.div())\n",
        "b.add(), b.sub(), b.mul(), b.div()\n"
      ],
      "execution_count": null,
      "outputs": [
        {
          "output_type": "stream",
          "text": [
            "4. 곱하기, 빼기, 나누기 기능 추가\n",
            "6 2 8 2.0\n"
          ],
          "name": "stdout"
        },
        {
          "output_type": "execute_result",
          "data": {
            "text/plain": [
              "(11, -5, 24, 0.375)"
            ]
          },
          "metadata": {
            "tags": []
          },
          "execution_count": 25
        }
      ]
    },
    {
      "cell_type": "markdown",
      "metadata": {
        "id": "CQvjcEk63AN_"
      },
      "source": [
        "## 생성자(Constructor)\n",
        "\n",
        "*   클래스에 __init__() 로 정의\n",
        "\n"
      ]
    },
    {
      "cell_type": "code",
      "metadata": {
        "colab": {
          "base_uri": "https://localhost:8080/"
        },
        "id": "XzeyQcBd25IW",
        "outputId": "5c286c77-91a8-47d0-e434-4fdf7ce2c772"
      },
      "source": [
        "#######################################\n",
        "print(\"생성자 (Constructor)\")\n",
        "#######################################\n",
        "#\n",
        "# __init__()\n",
        "#\n",
        "\n",
        "#a = FourCal()\n",
        "#a.add()   #  AttributeError\n"
      ],
      "execution_count": null,
      "outputs": [
        {
          "output_type": "stream",
          "text": [
            "생성자 (Constructor)\n"
          ],
          "name": "stdout"
        }
      ]
    },
    {
      "cell_type": "code",
      "metadata": {
        "colab": {
          "base_uri": "https://localhost:8080/"
        },
        "id": "TgmxMZ_O3Pek",
        "outputId": "de7adb33-17a1-49fb-cabb-a3b01b037f45"
      },
      "source": [
        "#######################################\n",
        "class FourCal:\n",
        "    def __init__(self, first, second):\n",
        "        self.first = first\n",
        "        self.second = second\n",
        "\n",
        "    def setdata(self, first, second):\n",
        "        self.first = first\n",
        "        self.second = second\n",
        "        \n",
        "    def add(self):\n",
        "        result = self.first + self.second\n",
        "        return result\n",
        "\n",
        "    def sub(self):\n",
        "        result = self.first - self.second\n",
        "        return result\n",
        "\n",
        "    def mul(self):\n",
        "        result = self.first * self.second\n",
        "        return result\n",
        "\n",
        "    def div(self):\n",
        "        result = self.first / self.second\n",
        "        return result\n",
        "    \n",
        "\n",
        "#######################################\n",
        "\n",
        "#a = FourCal()   # TypeError:\n",
        "\n",
        "a = FourCal(4, 2)\n",
        "a.first, a.second\n",
        "\n",
        "a.mul(), a.div()\n"
      ],
      "execution_count": null,
      "outputs": [
        {
          "output_type": "execute_result",
          "data": {
            "text/plain": [
              "(8, 2.0)"
            ]
          },
          "metadata": {
            "tags": []
          },
          "execution_count": 28
        }
      ]
    },
    {
      "cell_type": "markdown",
      "metadata": {
        "id": "U5d4L-ZE3owX"
      },
      "source": [
        "## 클래스의 상속\n",
        "* FourCal -> MoreFourCal"
      ]
    },
    {
      "cell_type": "code",
      "metadata": {
        "colab": {
          "base_uri": "https://localhost:8080/"
        },
        "id": "bQ-9d-Mu3iWM",
        "outputId": "466ca01a-ca03-4ab2-b0c2-6bd8aa8bbdb4"
      },
      "source": [
        "#######################################\n",
        "print(\"클래스의 상속\")\n",
        "# 상속은 기존 클래스를 변경하지 않고 기능을 추가하거나 \n",
        "# 기존 기능을 변경하려고 할 때 사용\n",
        "#######################################\n",
        "# \n",
        "# class 클래스 이름(상속할 클래스 이름)\n",
        "# \n",
        "# 클래스 FourCal를 상속하는 \n",
        "# class MoreFourCal\n",
        "# FourCal 클래스에 a^b (a의 b제곱)을 구할 수 있는 기능을 추가\n",
        "#\n",
        "\n",
        "class MoreFourCal(FourCal):\n",
        "    pass\n",
        "\n",
        "\n",
        "a = MoreFourCal(4, 2)\n",
        "a.add(), a.mul()\n"
      ],
      "execution_count": null,
      "outputs": [
        {
          "output_type": "stream",
          "text": [
            "클래스의 상속\n"
          ],
          "name": "stdout"
        },
        {
          "output_type": "execute_result",
          "data": {
            "text/plain": [
              "(6, 8)"
            ]
          },
          "metadata": {
            "tags": []
          },
          "execution_count": 29
        }
      ]
    },
    {
      "cell_type": "markdown",
      "metadata": {
        "id": "Or32Mn2u3xTu"
      },
      "source": [
        "## MoreFourCal\n",
        "\n",
        "> 지수 계산 기능을 추가한 클래스\n",
        "\n"
      ]
    },
    {
      "cell_type": "code",
      "metadata": {
        "colab": {
          "base_uri": "https://localhost:8080/"
        },
        "id": "72LoaXDn3vqA",
        "outputId": "7bd9082b-b780-40cc-e80e-3fee609fece1"
      },
      "source": [
        "\n",
        "\n",
        "class MoreFourCal(FourCal):\n",
        "    def pow(self):\n",
        "        result = self.first ** self.second\n",
        "        return result\n",
        "    \n",
        "\n",
        "a = MoreFourCal(4, 2)\n",
        "print(a.add(), a.mul())\n",
        "\n",
        "a.pow()\n",
        "\n",
        "# 상속은 MoreFourCal 클래스처럼 기존 클래스(FourCal)는 \n",
        "# 그대로 놔둔 채 클래스의 기능을 확장시킬 때 주로 사용.\n"
      ],
      "execution_count": null,
      "outputs": [
        {
          "output_type": "stream",
          "text": [
            "6 8\n"
          ],
          "name": "stdout"
        },
        {
          "output_type": "execute_result",
          "data": {
            "text/plain": [
              "16"
            ]
          },
          "metadata": {
            "tags": []
          },
          "execution_count": 31
        }
      ]
    },
    {
      "cell_type": "markdown",
      "metadata": {
        "id": "-SbJFuV-38Iv"
      },
      "source": [
        "메서드 오버라이딩(재정의)"
      ]
    },
    {
      "cell_type": "code",
      "metadata": {
        "colab": {
          "base_uri": "https://localhost:8080/"
        },
        "id": "QMG3cvi033gC",
        "outputId": "2509d82c-f427-48c3-9b7b-836002f9a9aa"
      },
      "source": [
        "\n",
        "#######################################\n",
        "print(\"메서드 오버라이딩\")\n",
        "# 기존의 함수(메소드)를 수정/보완하여 재정의\n",
        "#######################################\n",
        "# \n",
        "a = FourCal(4, 0)\n",
        "#a.div()  # ZeroDivisionError:"
      ],
      "execution_count": null,
      "outputs": [
        {
          "output_type": "stream",
          "text": [
            "메서드 오버라이딩\n"
          ],
          "name": "stdout"
        }
      ]
    },
    {
      "cell_type": "code",
      "metadata": {
        "colab": {
          "base_uri": "https://localhost:8080/"
        },
        "id": "pCqfrMIQ4B0J",
        "outputId": "59c242a1-788c-4b4e-c6d0-471738f03a16"
      },
      "source": [
        "# 메서드 오버라이딩 (Overriding)\n",
        "class SafeFourCal(FourCal):\n",
        "    def div(self):\n",
        "        if self.second == 0:  # 나누는 값이 0인 경우 0을 리턴하도록 수정\n",
        "            print(\"분모는 0을 사용할 수 없다.\")\n",
        "            return 0\n",
        "        else:\n",
        "            return self.first / self.second\n",
        "    \n",
        "\n",
        "\n",
        "a = SafeFourCal(4, 0)\n",
        "a.div()  # 메서드 오버라이딩 사용\n"
      ],
      "execution_count": null,
      "outputs": [
        {
          "output_type": "stream",
          "text": [
            "분모는 0을 사용할 수 없다.\n"
          ],
          "name": "stdout"
        },
        {
          "output_type": "execute_result",
          "data": {
            "text/plain": [
              "0"
            ]
          },
          "metadata": {
            "tags": []
          },
          "execution_count": 35
        }
      ]
    },
    {
      "cell_type": "code",
      "metadata": {
        "colab": {
          "base_uri": "https://localhost:8080/"
        },
        "id": "g3gJ9SZV4SF5",
        "outputId": "f4b1e900-3602-47cd-ab69-d64d5f32dea8"
      },
      "source": [
        "b = SafeFourCal(4,2)\n",
        "b.div()"
      ],
      "execution_count": null,
      "outputs": [
        {
          "output_type": "execute_result",
          "data": {
            "text/plain": [
              "2.0"
            ]
          },
          "metadata": {
            "tags": []
          },
          "execution_count": 36
        }
      ]
    },
    {
      "cell_type": "markdown",
      "metadata": {
        "id": "7JvEXCOD4T-H"
      },
      "source": [
        "## 클래스 변수"
      ]
    },
    {
      "cell_type": "code",
      "metadata": {
        "colab": {
          "base_uri": "https://localhost:8080/"
        },
        "id": "9VaHLBak4Qbr",
        "outputId": "852ab3a7-4c34-4ea0-8dac-145d71d75020"
      },
      "source": [
        "\n",
        "#######################################\n",
        "print(\"클래스 변수\")\n",
        "# 객체변수와 클래스변수의 차이?\n",
        "# 객체변수   :   객체.변수\n",
        "# 클래스변수 : 클래스.변수\n",
        "#######################################\n",
        "# \n",
        "class Family:\n",
        "    lastname = \"김\"   # 클래스변수\n"
      ],
      "execution_count": null,
      "outputs": [
        {
          "output_type": "stream",
          "text": [
            "클래스 변수\n"
          ],
          "name": "stdout"
        }
      ]
    },
    {
      "cell_type": "code",
      "metadata": {
        "colab": {
          "base_uri": "https://localhost:8080/",
          "height": 35
        },
        "id": "KFdF2Y_L4XiI",
        "outputId": "f452f961-a631-42d2-c3e7-d4444a88297b"
      },
      "source": [
        "\n",
        "\n",
        "# 클래스이름.클래스 변수로 사용\n",
        "Family.lastname # 객체를 통하지 않고 바로 접근\n"
      ],
      "execution_count": null,
      "outputs": [
        {
          "output_type": "execute_result",
          "data": {
            "application/vnd.google.colaboratory.intrinsic+json": {
              "type": "string"
            },
            "text/plain": [
              "'김'"
            ]
          },
          "metadata": {
            "tags": []
          },
          "execution_count": 38
        }
      ]
    },
    {
      "cell_type": "code",
      "metadata": {
        "colab": {
          "base_uri": "https://localhost:8080/"
        },
        "id": "3Yg7pyp44ZWs",
        "outputId": "d4e75386-3337-4e47-9efc-d841b0047f9d"
      },
      "source": [
        "\n",
        "# 객체변수로 접근\n",
        "a = Family()\n",
        "b = Family()\n",
        "\n",
        "print(a.lastname)\n",
        "print(b.lastname)\n",
        "id(a.lastname), id(b.lastname) , id(a.lastname)==id(b.lastname)\n"
      ],
      "execution_count": null,
      "outputs": [
        {
          "output_type": "stream",
          "text": [
            "김\n",
            "김\n"
          ],
          "name": "stdout"
        },
        {
          "output_type": "execute_result",
          "data": {
            "text/plain": [
              "(139688661603232, 139688661603232, True)"
            ]
          },
          "metadata": {
            "tags": []
          },
          "execution_count": 39
        }
      ]
    },
    {
      "cell_type": "code",
      "metadata": {
        "colab": {
          "base_uri": "https://localhost:8080/"
        },
        "id": "Lmzy4qRH4jWN",
        "outputId": "d7ea36e1-4078-4d46-9cc2-f7e3e8a36aa2"
      },
      "source": [
        "\n",
        "# 클래스변수를 변경하면?\n",
        "Family.lastname = \"박\"\n",
        "\n",
        "print(a.lastname)\n",
        "print(b.lastname)\n",
        "id(a.lastname), id(b.lastname), id(Family.lastname)\n",
        "# 클래스 변수가 공유됨을 확인.\n"
      ],
      "execution_count": null,
      "outputs": [
        {
          "output_type": "stream",
          "text": [
            "박\n",
            "박\n"
          ],
          "name": "stdout"
        },
        {
          "output_type": "execute_result",
          "data": {
            "text/plain": [
              "(139688662222288, 139688662222288, 139688662222288)"
            ]
          },
          "metadata": {
            "tags": []
          },
          "execution_count": 40
        }
      ]
    },
    {
      "cell_type": "code",
      "metadata": {
        "colab": {
          "base_uri": "https://localhost:8080/"
        },
        "id": "ovWVYOCE4lYz",
        "outputId": "9c6a2e92-4aea-461e-af8b-28027525075d"
      },
      "source": [
        "\n",
        "# 객체변수를 변경하면?\n",
        "a.lastname = \"이\"\n",
        "print(a.lastname, b.lastname, Family.lastname)\n",
        "id(a.lastname), id(b.lastname), id(Family.lastname)\n",
        "\n",
        "# 실무 프로그래밍에는 클래스 변수보다는 객체변수를 많이 사용.\n"
      ],
      "execution_count": null,
      "outputs": [
        {
          "output_type": "stream",
          "text": [
            "이 박 박\n"
          ],
          "name": "stdout"
        },
        {
          "output_type": "execute_result",
          "data": {
            "text/plain": [
              "(139688661713984, 139688662222288, 139688662222288)"
            ]
          },
          "metadata": {
            "tags": []
          },
          "execution_count": 42
        }
      ]
    },
    {
      "cell_type": "markdown",
      "metadata": {
        "id": "InFiozTjVOrv"
      },
      "source": [
        "- 모듈\n",
        "   - 모듈 만들기\n",
        "   - 모듈 불러오기\n",
        "   - if __name__ == \"__main__\": 의 의미\n",
        "   - 클래스나 변수 등을 포함한 모듈\n",
        "   - 다른 파일에서 모듈 불러오기"
      ]
    },
    {
      "cell_type": "code",
      "metadata": {
        "id": "-1H6FtDIVauP",
        "colab": {
          "base_uri": "https://localhost:8080/"
        },
        "outputId": "b9c6c2a0-699c-45c1-b809-31ca8a49a5bd"
      },
      "source": [
        "# ch5_02_module.py\n",
        "#\n",
        "print(\"모듈이란 무엇인가?\")\n",
        "#######################################\n",
        "# 모듈이란 함수나 변수 또는 클래스를 모아 놓은 파이썬 파일\n",
        "#######################################\n"
      ],
      "execution_count": null,
      "outputs": [
        {
          "output_type": "stream",
          "text": [
            "모듈이란 무엇인가?\n"
          ],
          "name": "stdout"
        }
      ]
    },
    {
      "cell_type": "markdown",
      "metadata": {
        "id": "HNFoLPNB5GCC"
      },
      "source": [
        "## 모듈 만들기"
      ]
    },
    {
      "cell_type": "code",
      "metadata": {
        "colab": {
          "base_uri": "https://localhost:8080/",
          "height": 53
        },
        "id": "o0n3lwoR4voI",
        "outputId": "587f1e79-e877-456c-dd63-3826d1558cfb"
      },
      "source": [
        "\n",
        "print(\"모듈 만들기\")\n",
        "#######################################\n",
        "# 간단한 모듈을 한번 만들어 보자.\n",
        "#######################################\n",
        "# \n",
        "\n",
        "# mod1.py를 현재 폴더에 저장\n",
        "'''\n",
        "# mod1.py\n",
        "def add(a, b):\n",
        "    return a + b\n",
        "def sub(a, b): \n",
        "    return a-b\n",
        "'''\n",
        "\n",
        "# 파이썬 확장자 .py로 만든 파이썬 파일은 모두 모듈이다.\n"
      ],
      "execution_count": null,
      "outputs": [
        {
          "output_type": "stream",
          "text": [
            "모듈 만들기\n"
          ],
          "name": "stdout"
        },
        {
          "output_type": "execute_result",
          "data": {
            "application/vnd.google.colaboratory.intrinsic+json": {
              "type": "string"
            },
            "text/plain": [
              "'\\n# mod1.py\\ndef add(a, b):\\n    return a + b\\ndef sub(a, b): \\n    return a-b\\n'"
            ]
          },
          "metadata": {
            "tags": []
          },
          "execution_count": 44
        }
      ]
    },
    {
      "cell_type": "markdown",
      "metadata": {
        "id": "uHTgULPy5ND7"
      },
      "source": [
        "## 모듈 불러오기\n",
        "* import *.py"
      ]
    },
    {
      "cell_type": "code",
      "metadata": {
        "colab": {
          "base_uri": "https://localhost:8080/"
        },
        "id": "FPCNTsPc5K-c",
        "outputId": "cea4bf34-d86f-4c64-f7a6-cfb28e8f4b4a"
      },
      "source": [
        "\n",
        "print(\"모듈 불러오기\")\n",
        "#######################################\n",
        "# import 모듈명\n",
        "# import는 이미 만들어 놓은 파이썬 모듈을 사용할 수 있게 해주는 명령어\n",
        "#######################################\n",
        "# \n",
        "# 현재 폴더에 있는 모듈, mod1.py를 연결하기.\n",
        "#\n",
        "import mod1\n",
        "print(mod1.add(3, 4))\n",
        "\n",
        "print(mod1.sub(7, 2))\n"
      ],
      "execution_count": null,
      "outputs": [
        {
          "output_type": "stream",
          "text": [
            "모듈 불러오기\n",
            "5\n",
            "2\n",
            "7\n",
            "5\n"
          ],
          "name": "stdout"
        }
      ]
    },
    {
      "cell_type": "code",
      "metadata": {
        "colab": {
          "base_uri": "https://localhost:8080/"
        },
        "id": "4dpV9gUt5UeH",
        "outputId": "c9679210-40fd-4fb2-a668-38e853b8bfda"
      },
      "source": [
        "\n",
        "#######################################\n",
        "# 모듈 내부 함수 이용\n",
        "# from 모듈이름 import 모듈함수\n",
        "#######################################\n",
        "#\n",
        "from mod1 import add\n",
        "add(3, 4)\n"
      ],
      "execution_count": null,
      "outputs": [
        {
          "output_type": "execute_result",
          "data": {
            "text/plain": [
              "7"
            ]
          },
          "metadata": {
            "tags": []
          },
          "execution_count": 46
        }
      ]
    },
    {
      "cell_type": "code",
      "metadata": {
        "colab": {
          "base_uri": "https://localhost:8080/"
        },
        "id": "NPZApZ1t5gkA",
        "outputId": "14873153-e555-453d-d128-5d072f1bbd8d"
      },
      "source": [
        "from mod1 import *\n",
        "add(10,20),sub(10,20)"
      ],
      "execution_count": null,
      "outputs": [
        {
          "output_type": "execute_result",
          "data": {
            "text/plain": [
              "(30, -10)"
            ]
          },
          "metadata": {
            "tags": []
          },
          "execution_count": 47
        }
      ]
    },
    {
      "cell_type": "code",
      "metadata": {
        "colab": {
          "base_uri": "https://localhost:8080/"
        },
        "id": "Cir8VbF55c_X",
        "outputId": "d2f7c1c8-8a7a-4e14-eb5e-ec299bc1f74c"
      },
      "source": [
        "\n",
        "# from 모듈이름 import *\n",
        "# from mod1 import add, sub\n",
        "from mod1 import *\n",
        "\n",
        "add(3, 4)\n",
        "sub(7, 3)\n",
        "\n"
      ],
      "execution_count": null,
      "outputs": [
        {
          "output_type": "execute_result",
          "data": {
            "text/plain": [
              "4"
            ]
          },
          "metadata": {
            "tags": []
          },
          "execution_count": 48
        }
      ]
    },
    {
      "cell_type": "code",
      "metadata": {
        "id": "Q01Aj6SQ5iuC"
      },
      "source": [
        "\n",
        "print(\"if __name__ == \"__main__\": 의 의미\")\n",
        "#######################################\n",
        "# import 모듈명\n",
        "# import는 이미 만들어 놓은 파이썬 모듈을 \n",
        "# 사용할 수 있게 해주는 명령어\n",
        "#######################################\n",
        "# \n",
        "\n",
        "# mod1.py 파일을 다음과 같이 변경해 보자.\n",
        "'''\n",
        "# mod1.py \n",
        "def add(a, b): \n",
        "    return a+b\n",
        "def sub(a, b): \n",
        "    return a-b\n",
        "print(add(1, 4))\n",
        "print(sub(4, 2))\n",
        "'''\n",
        "\n",
        "###################################\n",
        "# cmd에서 실행하시오.\n",
        "# python mod1.py\n",
        "###################################\n",
        "'''\n",
        "python mod1.py\n",
        "5\n",
        "2\n",
        "'''\n"
      ],
      "execution_count": null,
      "outputs": []
    },
    {
      "cell_type": "code",
      "metadata": {
        "colab": {
          "base_uri": "https://localhost:8080/"
        },
        "id": "jgGZ0ZzM5xwU",
        "outputId": "1344c7c7-6f4e-48dc-9b6c-2d51a2e85f06"
      },
      "source": [
        "run mod1.py"
      ],
      "execution_count": null,
      "outputs": [
        {
          "output_type": "stream",
          "text": [
            "5\n",
            "2\n"
          ],
          "name": "stdout"
        }
      ]
    },
    {
      "cell_type": "code",
      "metadata": {
        "colab": {
          "base_uri": "https://localhost:8080/"
        },
        "id": "KGZ9Rohh5mk2",
        "outputId": "6a00ed4c-633c-4b80-f3b8-8b9f69fba033"
      },
      "source": [
        "\n",
        "import mod1\n",
        "# 5\n",
        "# 2\n",
        "print(__name__)\n"
      ],
      "execution_count": null,
      "outputs": [
        {
          "output_type": "stream",
          "text": [
            "__main__\n"
          ],
          "name": "stdout"
        }
      ]
    },
    {
      "cell_type": "code",
      "metadata": {
        "colab": {
          "base_uri": "https://localhost:8080/"
        },
        "id": "3frApOHM50TA",
        "outputId": "4a2698dd-7b9d-4bb5-d1f7-99bf17bccbd7"
      },
      "source": [
        "\n",
        "'''\n",
        "# mod2.py \n",
        "def add(a, b): \n",
        "    return a+b\n",
        "def sub(a, b): \n",
        "    return a-b\n",
        "if __name__ == \"__main__\":\n",
        "    print(add(1, 4))\n",
        "    print(sub(4, 2))\n",
        "'''\n",
        "\n",
        "import mod2\n",
        "print(__name__)\n",
        "# if __name__ == \"__main__\"을 사용하면 C:\\doit>python mod1.py처럼 \n",
        "# 직접 이 파일을 실행했을 때는 __name__ == \"__main__\"이 참이 되어 \n",
        "# if문 다음 문장이 수행된다. \n",
        "# 반대로 대화형 인터프리터나 다른 파일에서 이 모듈을 불러서 사용할 때는 \n",
        "# __name__ == \"__main__\"이 거짓이 되어 if문 다음 문장이 수행되지 않는다.\n",
        "#\n"
      ],
      "execution_count": null,
      "outputs": [
        {
          "output_type": "stream",
          "text": [
            "__main__\n"
          ],
          "name": "stdout"
        }
      ]
    },
    {
      "cell_type": "code",
      "metadata": {
        "colab": {
          "base_uri": "https://localhost:8080/"
        },
        "id": "TrbYCLDg54-6",
        "outputId": "49083135-1bb1-4a24-f323-b664501d5552"
      },
      "source": [
        "run mod2.py"
      ],
      "execution_count": null,
      "outputs": [
        {
          "output_type": "stream",
          "text": [
            "5\n",
            "2\n"
          ],
          "name": "stdout"
        }
      ]
    },
    {
      "cell_type": "code",
      "metadata": {
        "colab": {
          "base_uri": "https://localhost:8080/"
        },
        "id": "8f2c54yR56bN",
        "outputId": "6353eeeb-4290-47db-ec39-6fc0a08c6d1a"
      },
      "source": [
        "!python mod2.py"
      ],
      "execution_count": null,
      "outputs": [
        {
          "output_type": "stream",
          "text": [
            "5\n",
            "2\n"
          ],
          "name": "stdout"
        }
      ]
    },
    {
      "cell_type": "markdown",
      "metadata": {
        "id": "u21ht8Fq5823"
      },
      "source": [
        "## 12주에 계속"
      ]
    },
    {
      "cell_type": "code",
      "metadata": {
        "id": "fHkaBPAO529I",
        "colab": {
          "base_uri": "https://localhost:8080/",
          "height": 71
        },
        "outputId": "d8ae90b4-bf05-4760-c865-b173f28866e1"
      },
      "source": [
        "print(\"클래스나 변수 등을 포함한 모듈\")\n",
        "#######################################\n",
        "# 클래스나 변수 등을 포함하는 모듈\n",
        "#######################################\n",
        "# \n",
        "'''\n",
        "# mod3.py \n",
        "PI = 3.141592\n",
        "class Math: \n",
        "    def solv(self, r): \n",
        "        return PI * (r ** 2) \n",
        "def add(a, b): \n",
        "    return a+b \n",
        "'''\n"
      ],
      "execution_count": null,
      "outputs": [
        {
          "output_type": "stream",
          "text": [
            "클래스나 변수 등을 포함한 모듈\n"
          ],
          "name": "stdout"
        },
        {
          "output_type": "execute_result",
          "data": {
            "application/vnd.google.colaboratory.intrinsic+json": {
              "type": "string"
            },
            "text/plain": [
              "'\\n# mod3.py \\nPI = 3.141592\\nclass Math: \\n    def solv(self, r): \\n        return PI * (r ** 2) \\ndef add(a, b): \\n    return a+b \\n'"
            ]
          },
          "metadata": {
            "tags": []
          },
          "execution_count": 1
        }
      ]
    },
    {
      "cell_type": "code",
      "metadata": {
        "colab": {
          "base_uri": "https://localhost:8080/"
        },
        "id": "rIwynuQ5C252",
        "outputId": "a185af4d-d86a-4e73-ba1c-05eb9f457fc8"
      },
      "source": [
        "\n",
        "import mod3\n",
        "\n",
        "print(mod3.PI)\n",
        "\n",
        "a = mod3.Math()\n",
        "print(a.solv(2))\n",
        "\n",
        "print(mod3.add(mod3.PI, 4.4))\n"
      ],
      "execution_count": null,
      "outputs": [
        {
          "output_type": "stream",
          "text": [
            "3.141592\n",
            "12.566368\n",
            "7.5415920000000005\n"
          ],
          "name": "stdout"
        }
      ]
    },
    {
      "cell_type": "markdown",
      "metadata": {
        "id": "iFAQsgjDDD53"
      },
      "source": [
        "## 다른 파일에서 모듈 불러오기"
      ]
    },
    {
      "cell_type": "code",
      "metadata": {
        "colab": {
          "base_uri": "https://localhost:8080/",
          "height": 53
        },
        "id": "y61KKsxQC7ie",
        "outputId": "1081c45c-5ad4-4b31-cc9a-a754ee78af64"
      },
      "source": [
        "\n",
        "print(\"다른 파일에서 모듈 불러오기\")\n",
        "#######################################\n",
        "# 다른 파이썬 파일에서 이전에 만들어 놓은 \n",
        "# 모듈을 불러와서 사용하는 방법\n",
        "#######################################\n",
        "# \n",
        "'''\n",
        "# modtest.py\n",
        "import mod2\n",
        "result = mod2.add(3, 4)\n",
        "print(result)\n",
        "'''\n",
        "###################################\n",
        "# cmd에서 실행하시오.\n",
        "# python modtest.py\n",
        "###################################"
      ],
      "execution_count": null,
      "outputs": [
        {
          "output_type": "stream",
          "text": [
            "다른 파일에서 모듈 불러오기\n"
          ],
          "name": "stdout"
        },
        {
          "output_type": "execute_result",
          "data": {
            "application/vnd.google.colaboratory.intrinsic+json": {
              "type": "string"
            },
            "text/plain": [
              "'\\n# modtest.py\\nimport mod2\\nresult = mod2.add(3, 4)\\nprint(result)\\n'"
            ]
          },
          "metadata": {
            "tags": []
          },
          "execution_count": 4
        }
      ]
    },
    {
      "cell_type": "code",
      "metadata": {
        "colab": {
          "base_uri": "https://localhost:8080/"
        },
        "id": "Fw9cS9tQDKYs",
        "outputId": "757c4765-7906-4e2f-c221-779df426c9d8"
      },
      "source": [
        "run modtest.py"
      ],
      "execution_count": null,
      "outputs": [
        {
          "output_type": "stream",
          "text": [
            "7\n"
          ],
          "name": "stdout"
        }
      ]
    },
    {
      "cell_type": "markdown",
      "metadata": {
        "id": "xVc3K-J6IWp_"
      },
      "source": [
        "## 내장 모듈 사용해보기\n",
        "*  sys"
      ]
    },
    {
      "cell_type": "code",
      "metadata": {
        "colab": {
          "base_uri": "https://localhost:8080/"
        },
        "id": "EpPlYlqqDIwV",
        "outputId": "352a2a53-992e-4ede-d306-fee364586ce5"
      },
      "source": [
        "# 참고: 현재 폴더로 경로 설정 (path)\n",
        "import sys\n",
        "sys.path.append(\"d:/mydir\")\n",
        "sys.path\n"
      ],
      "execution_count": 3,
      "outputs": [
        {
          "output_type": "execute_result",
          "data": {
            "text/plain": [
              "['',\n",
              " '/content',\n",
              " '/env/python',\n",
              " '/usr/lib/python37.zip',\n",
              " '/usr/lib/python3.7',\n",
              " '/usr/lib/python3.7/lib-dynload',\n",
              " '/usr/local/lib/python3.7/dist-packages',\n",
              " '/usr/lib/python3/dist-packages',\n",
              " '/usr/local/lib/python3.7/dist-packages/IPython/extensions',\n",
              " '/root/.ipython',\n",
              " 'd:/mydir']"
            ]
          },
          "metadata": {
            "tags": []
          },
          "execution_count": 3
        }
      ]
    },
    {
      "cell_type": "code",
      "metadata": {
        "colab": {
          "base_uri": "https://localhost:8080/"
        },
        "id": "C0lQbhE83vf0",
        "outputId": "0d1ee17d-6f39-4759-f929-357733b063d8"
      },
      "source": [
        "sys.path.append(\"./sample_data\")\n",
        "sys.path"
      ],
      "execution_count": 4,
      "outputs": [
        {
          "output_type": "execute_result",
          "data": {
            "text/plain": [
              "['',\n",
              " '/content',\n",
              " '/env/python',\n",
              " '/usr/lib/python37.zip',\n",
              " '/usr/lib/python3.7',\n",
              " '/usr/lib/python3.7/lib-dynload',\n",
              " '/usr/local/lib/python3.7/dist-packages',\n",
              " '/usr/lib/python3/dist-packages',\n",
              " '/usr/local/lib/python3.7/dist-packages/IPython/extensions',\n",
              " '/root/.ipython',\n",
              " 'd:/mydir',\n",
              " './sample_data']"
            ]
          },
          "metadata": {
            "tags": []
          },
          "execution_count": 4
        }
      ]
    },
    {
      "cell_type": "markdown",
      "metadata": {
        "id": "DFZHMh5pVq82"
      },
      "source": [
        "- 패키지\n",
        "   - 패키지란 무엇인가?\n",
        "   - 패키지 만들기\n",
        "   - 패키지 안의 함수 실행하기\n",
        "   - __init__.py 의 용도\n",
        "   - relative 패키지"
      ]
    },
    {
      "cell_type": "code",
      "metadata": {
        "id": "fGBlcLGN-3pd",
        "colab": {
          "base_uri": "https://localhost:8080/",
          "height": 89
        },
        "outputId": "e0963ed7-d88c-4bb9-acb4-9ba15b920eb8"
      },
      "source": [
        "# ch5_03_package.py\n",
        "#\n",
        "print(\"패키지란 무엇인가?\")\n",
        "#######################################\n",
        "# 파이썬 모듈들을 모아놓은 폴더로 구성\n",
        "# 유사한 기능을 가진 모듈들을 묶어서 구성\n",
        "#######################################\n",
        "#\n",
        "# 가상의 game 패키지 예\n",
        "#\n",
        "\"\"\"\n",
        "game/\n",
        "    __init__.py\n",
        "    sound/\n",
        "        __init__.py\n",
        "        echo.py\n",
        "        wav.py\n",
        "    graphic/\n",
        "        __init__.py\n",
        "        screen.py\n",
        "        render.py\n",
        "    play/\n",
        "        __init__.py\n",
        "        run.py\n",
        "        test.py\n",
        "\"\"\"\n",
        "# game 디렉터리가 이 패키지의 루트 디렉터리이고\n",
        "# sound, graphic, play는 서브 디렉터리이다."
      ],
      "execution_count": 11,
      "outputs": [
        {
          "output_type": "stream",
          "text": [
            "패키지란 무엇인가?\n"
          ],
          "name": "stdout"
        },
        {
          "output_type": "execute_result",
          "data": {
            "application/vnd.google.colaboratory.intrinsic+json": {
              "type": "string"
            },
            "text/plain": [
              "'\\ngame/\\n    __init__.py\\n    sound/\\n        __init__.py\\n        echo.py\\n        wav.py\\n    graphic/\\n        __init__.py\\n        screen.py\\n        render.py\\n    play/\\n        __init__.py\\n        run.py\\n        test.py\\n'"
            ]
          },
          "metadata": {
            "tags": []
          },
          "execution_count": 11
        }
      ]
    },
    {
      "cell_type": "code",
      "metadata": {
        "colab": {
          "base_uri": "https://localhost:8080/"
        },
        "id": "EDsiNvdr336c",
        "outputId": "d880f0e7-9951-44c3-921b-5a6011ba26f2"
      },
      "source": [
        "!cd('/content')"
      ],
      "execution_count": 12,
      "outputs": [
        {
          "output_type": "stream",
          "text": [
            "/bin/bash: -c: line 0: syntax error near unexpected token `'/content''\n",
            "/bin/bash: -c: line 0: `cd('/content')'\n"
          ],
          "name": "stdout"
        }
      ]
    },
    {
      "cell_type": "code",
      "metadata": {
        "colab": {
          "base_uri": "https://localhost:8080/",
          "height": 35
        },
        "id": "KgLn2SK0359d",
        "outputId": "eb4d8d4c-7101-47a7-8dc8-0cd525602765"
      },
      "source": [
        "import os\n",
        "os.getcwd()\n",
        "# os.chdir('./content')"
      ],
      "execution_count": 13,
      "outputs": [
        {
          "output_type": "execute_result",
          "data": {
            "application/vnd.google.colaboratory.intrinsic+json": {
              "type": "string"
            },
            "text/plain": [
              "'/content'"
            ]
          },
          "metadata": {
            "tags": []
          },
          "execution_count": 13
        }
      ]
    },
    {
      "cell_type": "code",
      "metadata": {
        "colab": {
          "base_uri": "https://localhost:8080/",
          "height": 89
        },
        "id": "ibJbCIWX30jk",
        "outputId": "273f1d2c-00ab-406c-838b-235da1881e8c"
      },
      "source": [
        "print(\"패키지 만들기\")\n",
        "#######################################\n",
        "# 패키지 기본 구성 요소 준비하기\n",
        "#######################################\n",
        "# 1. 루트폴더, 서버폴더 만들기\n",
        "# 2. *.py 소스파일 준비\n",
        "\n",
        "#\n",
        "# 1. 루트폴더, 서버폴더 만들기\n",
        "\"\"\"\n",
        "./game/__init__.py\n",
        "./game/sound/__init__.py\n",
        "./game/sound/echo.py\n",
        "./game/graphic/__init__.py\n",
        "./game/graphic/render.py\n",
        "\"\"\"\n",
        "\n",
        "#\n",
        "# 2. *.py 소스파일 준비\n",
        "\"\"\"\n",
        "각 디렉터리에 __init__.py 파일을 만들어 놓기만 하고 \n",
        "내용은 일단 비워 둔다.\n",
        "# echo.py\n",
        "def echo_test():\n",
        "    print (\"echo\")\n",
        "# render.py\n",
        "def render_test():\n",
        "    print (\"render\")\n",
        "\"\"\"\n",
        "# 현재 폴더 내에 game 폴더가 포함됨.\n",
        "#\n"
      ],
      "execution_count": 8,
      "outputs": [
        {
          "output_type": "stream",
          "text": [
            "패키지 만들기\n"
          ],
          "name": "stdout"
        },
        {
          "output_type": "execute_result",
          "data": {
            "application/vnd.google.colaboratory.intrinsic+json": {
              "type": "string"
            },
            "text/plain": [
              "'\\n각 디렉터리에 __init__.py 파일을 만들어 놓기만 하고 \\n내용은 일단 비워 둔다.\\n# echo.py\\ndef echo_test():\\n    print (\"echo\")\\n# render.py\\ndef render_test():\\n    print (\"render\")\\n'"
            ]
          },
          "metadata": {
            "tags": []
          },
          "execution_count": 8
        }
      ]
    },
    {
      "cell_type": "markdown",
      "metadata": {
        "id": "4c121o9Y4BJU"
      },
      "source": [
        "## 패키지 안의 함수 실행"
      ]
    },
    {
      "cell_type": "code",
      "metadata": {
        "colab": {
          "base_uri": "https://localhost:8080/"
        },
        "id": "IeQFEASH3_FF",
        "outputId": "8f850712-0d3f-49a2-955d-c55c3a85a515"
      },
      "source": [
        "print(\"패키지 안의 함수 실행하기\")\n",
        "#######################################\n",
        "# package를 import하여 내부 함수 실행\n",
        "#######################################\n",
        "#\n",
        "# 1. echo 모듈을 import하여 실행\n",
        "import game.sound.echo\n",
        "\n",
        "game.sound.echo.echo_test()\n"
      ],
      "execution_count": 14,
      "outputs": [
        {
          "output_type": "stream",
          "text": [
            "패키지 안의 함수 실행하기\n",
            "echo\n"
          ],
          "name": "stdout"
        }
      ]
    },
    {
      "cell_type": "code",
      "metadata": {
        "colab": {
          "base_uri": "https://localhost:8080/"
        },
        "id": "uIdy5FY44HU7",
        "outputId": "aca719f7-6284-460e-a19e-2539cdfe765c"
      },
      "source": [
        "\n",
        "# 2. echo 모듈이 있는 디렉터리까지를 from ... import하여 실행\n",
        "from game.sound import echo\n",
        "\n",
        "echo.echo_test()\n"
      ],
      "execution_count": 15,
      "outputs": [
        {
          "output_type": "stream",
          "text": [
            "echo\n"
          ],
          "name": "stdout"
        }
      ]
    },
    {
      "cell_type": "code",
      "metadata": {
        "colab": {
          "base_uri": "https://localhost:8080/"
        },
        "id": "T7C8Uxvv6PZX",
        "outputId": "39a7e7f7-467a-4d31-93bd-41356e863bff"
      },
      "source": [
        "\n",
        "# 3. echo 모듈의 echo_test 함수를 직접 import하여 실행\n",
        "from game.sound.echo import echo_test\n",
        "\n",
        "echo_test()\n"
      ],
      "execution_count": 16,
      "outputs": [
        {
          "output_type": "stream",
          "text": [
            "echo\n"
          ],
          "name": "stdout"
        }
      ]
    },
    {
      "cell_type": "code",
      "metadata": {
        "colab": {
          "base_uri": "https://localhost:8080/"
        },
        "id": "hnBCMpFV6RW-",
        "outputId": "88ebbe6a-9ab6-43d2-badb-c6d5e2d48cf4"
      },
      "source": [
        "\n",
        "\n",
        "#\n",
        "# 다음과 같이 echo_test 함수를 사용하는 것은 불가능\n",
        "import game\n",
        "\n",
        "game.sound.echo.echo_test()\n",
        "\n",
        "# import game.sound.echo.echo_test  # ModuleNotFoundError:\n"
      ],
      "execution_count": 18,
      "outputs": [
        {
          "output_type": "stream",
          "text": [
            "echo\n"
          ],
          "name": "stdout"
        }
      ]
    },
    {
      "cell_type": "markdown",
      "metadata": {
        "id": "mvP767ep6qs5"
      },
      "source": [
        "## __init__.py 의 용도"
      ]
    },
    {
      "cell_type": "code",
      "metadata": {
        "colab": {
          "base_uri": "https://localhost:8080/"
        },
        "id": "waGdDFRP6T9d",
        "outputId": "2fe4c94a-b2d7-40c7-a578-bd55bbd5833b"
      },
      "source": [
        "print(\"__init__.py 의 용도\")\n",
        "#######################################\n",
        "# __init__.py 파일은 해당 디렉터리가 패키지의 일부임을 알려주는 역할\n",
        "# 만약 game, sound, graphic 등 패키지에 포함된 디렉터리에\n",
        "# __init__.py 파일이 없다면 패키지로 인식되지 않는다.\n",
        "#######################################\n",
        "#\n",
        "from game.sound import *\n",
        "\n",
        "echo.echo_test()\n",
        "\n"
      ],
      "execution_count": 19,
      "outputs": [
        {
          "output_type": "stream",
          "text": [
            "__init__.py 의 용도\n",
            "echo\n"
          ],
          "name": "stdout"
        }
      ]
    },
    {
      "cell_type": "code",
      "metadata": {
        "colab": {
          "base_uri": "https://localhost:8080/"
        },
        "id": "_izJCg2n6uod",
        "outputId": "c4fec0a3-a1c9-44c7-bae0-c3984ecf97de"
      },
      "source": [
        "\n",
        "print(\"relative 패키지\")\n",
        "#######################################\n",
        "# 만약 graphic 디렉터리의 render.py 모듈이\n",
        "# sound 디렉터리의 echo.py 모듈을 사용\n",
        "#\n",
        "# render.py를 수정\n",
        "#######################################\n",
        "#\n",
        "from game.graphic.render import render_test\n",
        "\n",
        "render_test()\n"
      ],
      "execution_count": 20,
      "outputs": [
        {
          "output_type": "stream",
          "text": [
            "relative 패키지\n",
            "render\n"
          ],
          "name": "stdout"
        }
      ]
    },
    {
      "cell_type": "code",
      "metadata": {
        "id": "MH5N5vYY6y6o"
      },
      "source": [
        "\n",
        "# .. : parent folder\n",
        "#  . : current folder\n",
        "\"\"\"\n",
        "# render.py\n",
        "from ..sound.echo import echo_test\n",
        "def render_test():\n",
        "    print (\"render\")\n",
        "    echo_test()\n",
        "\"\"\"\n",
        "\n",
        "\n",
        "\"\"\"\n",
        "# render.py\n",
        "from game.sound.echo import echo_test\n",
        "def render_test():\n",
        "    print (\"render\")\n",
        "    echo_test()\n",
        "\"\"\"\n"
      ],
      "execution_count": null,
      "outputs": []
    }
  ]
}