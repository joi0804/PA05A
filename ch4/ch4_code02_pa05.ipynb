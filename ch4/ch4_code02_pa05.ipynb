{
  "nbformat": 4,
  "nbformat_minor": 0,
  "metadata": {
    "colab": {
      "name": "ch4_code02_pa05.ipynb",
      "provenance": [],
      "collapsed_sections": [],
      "include_colab_link": true
    },
    "kernelspec": {
      "display_name": "Python 3",
      "language": "python",
      "name": "python3"
    },
    "language_info": {
      "codemirror_mode": {
        "name": "ipython",
        "version": 3
      },
      "file_extension": ".py",
      "mimetype": "text/x-python",
      "name": "python",
      "nbconvert_exporter": "python",
      "pygments_lexer": "ipython3",
      "version": "3.7.5"
    }
  },
  "cells": [
    {
      "cell_type": "markdown",
      "metadata": {
        "id": "view-in-github",
        "colab_type": "text"
      },
      "source": [
        "<a href=\"https://colab.research.google.com/github/joi0804/PA05A/blob/main/ch4/ch4_code02_pa05.ipynb\" target=\"_parent\"><img src=\"https://colab.research.google.com/assets/colab-badge.svg\" alt=\"Open In Colab\"/></a>"
      ]
    },
    {
      "cell_type": "markdown",
      "metadata": {
        "id": "H4jNE-BMAK3f"
      },
      "source": [
        "# ch4_code02.ipynb\n",
        "## py13  (change to your id)\n",
        "- 사용자 입력과 출력\n",
        "   - 사용자 입력\n",
        "     - input의 사용\n",
        "     - 프롬프트를 띄워서 사용자 입력 받기\n",
        "   - print 자세히 알기\n",
        "     - 큰따옴표(\")로 둘러싸인 문자열은 + 연산과 동일하다\n",
        "     - 문자열 띄어쓰기는 콤마로 한다\n",
        "     - 한 줄에 결괏값 출력하기\n",
        "---\n",
        "- 파일 읽고 쓰기\n",
        "   - 파일 생성하기\n",
        "   - 파일을 쓰기 모드로 열어 출력값 적기\n",
        "   - 프로그램의 외부에 저장된 파일을 읽는 여러 가지 방법\n",
        "     - readline() 함수 이용하기\n",
        "     - readlines 함수 사용하기\n",
        "     - read 함수 사용하기\n",
        "   - 파일에 새로운 내용 추가하기\n",
        "   - with문과 함께 사용하기"
      ]
    },
    {
      "cell_type": "markdown",
      "metadata": {
        "id": "uRmeDLFPxvEG"
      },
      "source": [
        "### user io"
      ]
    },
    {
      "cell_type": "code",
      "metadata": {
        "id": "hXPcvn1CtW6z",
        "colab": {
          "base_uri": "https://localhost:8080/"
        },
        "outputId": "fb93ceb7-3a39-4b3d-98f8-d49445c2f092"
      },
      "source": [
        ""
      ],
      "execution_count": 1,
      "outputs": [
        {
          "output_type": "stream",
          "text": [
            "사용자 입력과 출력\n"
          ],
          "name": "stdout"
        }
      ]
    },
    {
      "cell_type": "code",
      "metadata": {
        "colab": {
          "base_uri": "https://localhost:8080/",
          "height": 92
        },
        "id": "ERP7u8h162-o",
        "outputId": "94a34bc7-1c4f-41aa-b77f-31364351036e"
      },
      "source": [
        "print(\"사용자 입력\")\n",
        "# 사용자가 입력한 값을 어떤 변수에 대입\n",
        "#######################################                                        \n",
        "print(\"input의 사용\")                                              \n",
        "#######################################\n",
        "\n",
        "a = input()\n",
        "# Life is too short, you need python\n",
        "a\n"
      ],
      "execution_count": 2,
      "outputs": [
        {
          "output_type": "stream",
          "text": [
            "사용자 입력\n",
            "input의 사용\n",
            "Life is too short,  you need python\n"
          ],
          "name": "stdout"
        },
        {
          "output_type": "execute_result",
          "data": {
            "application/vnd.google.colaboratory.intrinsic+json": {
              "type": "string"
            },
            "text/plain": [
              "'Life is too short,  you need python'"
            ]
          },
          "metadata": {
            "tags": []
          },
          "execution_count": 2
        }
      ]
    },
    {
      "cell_type": "code",
      "metadata": {
        "colab": {
          "base_uri": "https://localhost:8080/"
        },
        "id": "l_P7z5jqhFd0",
        "outputId": "2d2f57e8-b0ca-4c35-d7be-0a85f3160b58"
      },
      "source": [
        "print(\"입력 안내 문구를 이용한 input의 사용\")\n",
        "#######################################\n",
        "# input(\"안내 문구\")\n",
        "#######################################\n",
        "\n",
        "number = input(\"숫자를 입력하세요: \")\n",
        "\n",
        "print(number)"
      ],
      "execution_count": 1,
      "outputs": [
        {
          "output_type": "stream",
          "text": [
            "입력 안내 문구를 이용한 input의 사용\n",
            "숫자를 입력하세요: 1234\n",
            "1234\n"
          ],
          "name": "stdout"
        }
      ]
    },
    {
      "cell_type": "code",
      "metadata": {
        "colab": {
          "base_uri": "https://localhost:8080/"
        },
        "id": "GGZooFxrhI_3",
        "outputId": "b2ee1e76-6ee6-47a9-cf39-3180126ab8f2"
      },
      "source": [
        "number=input(\"숫자만 입력하세요!\")\n",
        "if number.isnumeric():\n",
        "  print(number)\n",
        "else:\n",
        "  print(\"경고: 숫자만 입력하세요!\")"
      ],
      "execution_count": 2,
      "outputs": [
        {
          "output_type": "stream",
          "text": [
            "숫자만 입력하세요!aaa\n",
            "경고: 숫자만 입력하세요!\n"
          ],
          "name": "stdout"
        }
      ]
    },
    {
      "cell_type": "markdown",
      "metadata": {
        "id": "mYf7wX36hriz"
      },
      "source": [
        "사용자 출력:print()"
      ]
    },
    {
      "cell_type": "code",
      "metadata": {
        "colab": {
          "base_uri": "https://localhost:8080/"
        },
        "id": "8DSmn9Ce9b0p",
        "outputId": "e721cb09-5f80-407b-dcaf-3a7ecf842ce4"
      },
      "source": [
        "print(\"사용자 출력: print()\")\n",
        "# 입력한 자료형을 출력\n",
        "#######################################\n",
        "print(\"print의 사용\")\n",
        "#######################################\n",
        "\n",
        "a = 123\n",
        "print(a)\n",
        "\n",
        "a = \"Python\"\n",
        "print(a)\n",
        "\n",
        "a = [1, 2, 3]\n",
        "print(a)"
      ],
      "execution_count": 4,
      "outputs": [
        {
          "output_type": "stream",
          "text": [
            "사용자 출력: print()\n",
            "print의 사용\n",
            "123\n",
            "Python\n",
            "[1, 2, 3]\n"
          ],
          "name": "stdout"
        }
      ]
    },
    {
      "cell_type": "code",
      "metadata": {
        "colab": {
          "base_uri": "https://localhost:8080/"
        },
        "id": "3FxHvehhhWFR",
        "outputId": "f9ec9e4b-f367-4572-9c5c-6c34ff96d76e"
      },
      "source": [
        "#######################################\n",
        "print(\"큰따옴표(\\\")로 둘러싸인 문자열은 + 연산과 동일\")\n",
        "#\n",
        "print(\"life\" \"is\" \"too short\")\n",
        "print(\"life\"+\"is\"+\"too short\")\n"
      ],
      "execution_count": 6,
      "outputs": [
        {
          "output_type": "stream",
          "text": [
            "큰따옴표(\")로 둘러싸인 문자열은 + 연산과 동일\n",
            "lifeistoo short\n",
            "lifeistoo short\n"
          ],
          "name": "stdout"
        }
      ]
    },
    {
      "cell_type": "code",
      "metadata": {
        "colab": {
          "base_uri": "https://localhost:8080/"
        },
        "id": "DEWComWehZyN",
        "outputId": "12cf85f1-1f9e-4230-e0e5-bbdf82033c97"
      },
      "source": [
        "#######################################\n",
        "print(\"문자열 띄어쓰기는 콤마로 한다\")\n",
        "#\n",
        "print(\"life\", \"is\", \"too short\")\n"
      ],
      "execution_count": 7,
      "outputs": [
        {
          "output_type": "stream",
          "text": [
            "문자열 띄어쓰기는 콤마로 한다\n",
            "life is too short\n"
          ],
          "name": "stdout"
        }
      ]
    },
    {
      "cell_type": "code",
      "metadata": {
        "colab": {
          "base_uri": "https://localhost:8080/"
        },
        "id": "LRcQ0G45hbZF",
        "outputId": "2b11314d-da36-4599-98ab-0bd4facd77d0"
      },
      "source": [
        "#######################################\n",
        "print(\"한 줄에 결괏값 출력하기\")\n",
        "#\n",
        "for i in range(10):\n",
        "    print(i, end=' ')\n"
      ],
      "execution_count": 8,
      "outputs": [
        {
          "output_type": "stream",
          "text": [
            "한 줄에 결괏값 출력하기\n",
            "0 1 2 3 4 5 6 7 8 9 "
          ],
          "name": "stdout"
        }
      ]
    },
    {
      "cell_type": "markdown",
      "metadata": {
        "id": "UWweVZiOxmUE"
      },
      "source": [
        "### File io"
      ]
    },
    {
      "cell_type": "code",
      "metadata": {
        "id": "XKHVBjDWxSz1",
        "colab": {
          "base_uri": "https://localhost:8080/"
        },
        "outputId": "7edf9af3-67f2-4fc1-e759-1217a8b2c8aa"
      },
      "source": [
        "# ch4_03_file_io.py\n",
        "#\n",
        "print(\"파일 읽고 쓰기\")\n",
        "#######################################\n",
        "# 파일을 통한 입출력 방법에 대해 알아보자.\n",
        "#######################################"
      ],
      "execution_count": 9,
      "outputs": [
        {
          "output_type": "stream",
          "text": [
            "파일 읽고 쓰기\n"
          ],
          "name": "stdout"
        }
      ]
    },
    {
      "cell_type": "markdown",
      "metadata": {
        "id": "NgOgt7I0h3f-"
      },
      "source": [
        "파일 객체 = open(파일 이름,파일 열기 모드)\n",
        "\n",
        "*   r 읽기모드 - 파일을 읽기만 할 때 사용\n",
        "*   w 쓰기모드 - 파일에 내용을 쓸 때 사용\n",
        "*   a 추가모드 - 파일의 마지막에 새로운 내용을 추가 시킬 때 사용\n"
      ]
    },
    {
      "cell_type": "code",
      "metadata": {
        "colab": {
          "base_uri": "https://localhost:8080/",
          "height": 55
        },
        "id": "tlog845th0-X",
        "outputId": "8548cd12-b118-4122-f7fd-25ade04938c3"
      },
      "source": [
        "print(\"파일 쓰기(생성하기)\")\n",
        "#\n",
        "# 파일 객체 = open(파일 이름, 파일 열기 모드)\n",
        "#\n",
        "# 파일열기모드\n",
        "# r\t읽기모드 - 파일을 읽기만 할 때 사용\n",
        "# w\t쓰기모드 - 파일에 내용을 쓸 때 사용\n",
        "# a\t추가모드 - 파일의 마지막에 새로운 내용을 추가 시킬 때 사용\n",
        "#\n",
        "\n",
        "f = open(\"새파일.txt\", \"w\")\n",
        "f.close()\n",
        "# 파일이 어디에 만들어졌는 지 확인하시오!!!\n",
        "\n",
        "# 다른 폴더에 파일 생성\n",
        "\"\"\"\n",
        "f = open(\"C:/doit/새파일.txt\", 'w')\n",
        "f.close()\n",
        "\"\"\""
      ],
      "execution_count": 10,
      "outputs": [
        {
          "output_type": "stream",
          "text": [
            "파일 쓰기(생성하기)\n"
          ],
          "name": "stdout"
        },
        {
          "output_type": "execute_result",
          "data": {
            "application/vnd.google.colaboratory.intrinsic+json": {
              "type": "string"
            },
            "text/plain": [
              "'\\nf = open(\"C:/doit/새파일.txt\", \\'w\\')\\nf.close()\\n'"
            ]
          },
          "metadata": {
            "tags": []
          },
          "execution_count": 10
        }
      ]
    },
    {
      "cell_type": "code",
      "metadata": {
        "id": "5bT1_2oQimtm"
      },
      "source": [
        "f = open(\"doit/새파일2.txt\", 'w')\n",
        "f.close()"
      ],
      "execution_count": null,
      "outputs": []
    },
    {
      "cell_type": "code",
      "metadata": {
        "colab": {
          "base_uri": "https://localhost:8080/"
        },
        "id": "cPjrLZFviHT3",
        "outputId": "ae6584a2-52c3-4468-fc22-869dde613eb9"
      },
      "source": [
        "print(\"파일을 쓰기 모드로 열어 출력값 적기\")\n",
        "#######################################\n",
        "# 프로그램의 출력값을 파일에 직접 써 보자.\n",
        "#######################################\n",
        "# 모니터에 출력\n",
        "for i in range(1, 11):\n",
        "    data = \"%d번째 줄입니다.\\n\" % i\n",
        "    print(data)\n"
      ],
      "execution_count": 16,
      "outputs": [
        {
          "output_type": "stream",
          "text": [
            "파일을 쓰기 모드로 열어 출력값 적기\n",
            "1번째 줄입니다.\n",
            "\n",
            "2번째 줄입니다.\n",
            "\n",
            "3번째 줄입니다.\n",
            "\n",
            "4번째 줄입니다.\n",
            "\n",
            "5번째 줄입니다.\n",
            "\n",
            "6번째 줄입니다.\n",
            "\n",
            "7번째 줄입니다.\n",
            "\n",
            "8번째 줄입니다.\n",
            "\n",
            "9번째 줄입니다.\n",
            "\n",
            "10번째 줄입니다.\n",
            "\n"
          ],
          "name": "stdout"
        }
      ]
    },
    {
      "cell_type": "code",
      "metadata": {
        "id": "wGbjTN33irYM"
      },
      "source": [
        "# 파일에 기록(출력)\n",
        "# writedata.py\n",
        "f = open(\"./새파일.txt\", \"w\")\n",
        "for i in range(1, 11):\n",
        "    data = \"%d번째 줄입니다.\\n\" % i\n",
        "    f.write(data)\n",
        "\n",
        "\n",
        "f.close()\n",
        "\n",
        "# 출력 파일의 한글이 깨지면\n",
        "# 파일 > 기본설정 > 설정 > Files: Auto Guess Encoding 을 지정(check)\n",
        "#\n"
      ],
      "execution_count": 17,
      "outputs": []
    },
    {
      "cell_type": "markdown",
      "metadata": {
        "id": "SC14zGZEkUTD"
      },
      "source": [
        "파일읽기\n",
        "\n",
        "\n",
        "1.  readline() 함수 이용하기\n",
        "2.  readlines 함수 사용하기\n",
        "3.  read 함수 사용하기\n"
      ]
    },
    {
      "cell_type": "code",
      "metadata": {
        "colab": {
          "base_uri": "https://localhost:8080/"
        },
        "id": "xp6543HckQ-o",
        "outputId": "3621f75e-0151-4288-90f6-2378ae841473"
      },
      "source": [
        "###################################################\n",
        "print(\"파일 읽기\")\n",
        "#\n",
        "# 파일 객체 = open(파일 이름, 파일 열기 모드)\n",
        "#\n",
        "# 파일읽기\n",
        "# readline() 함수 이용하기\n",
        "# readlines 함수 사용하기\n",
        "# read 함수 사용하기\n",
        "#\n",
        "# 1. readline() 함수\n",
        "# readline_test.py\n",
        "f = open(\"새파일.txt\", \"r\")\n",
        "line = f.readline()\n",
        "print(line)\n",
        "f.close()"
      ],
      "execution_count": 18,
      "outputs": [
        {
          "output_type": "stream",
          "text": [
            "파일 읽기\n",
            "1번째 줄입니다.\n",
            "\n"
          ],
          "name": "stdout"
        }
      ]
    },
    {
      "cell_type": "code",
      "metadata": {
        "colab": {
          "base_uri": "https://localhost:8080/"
        },
        "id": "vwxVh2EzkhMb",
        "outputId": "77cf3860-349d-4104-f597-bc167dcebb78"
      },
      "source": [
        "# readline_all.py\n",
        "f = open(\"새파일.txt\", \"r\")\n",
        "while True:\n",
        "    line = f.readline()\n",
        "    if not line:\n",
        "        break\n",
        "    print(line)\n",
        "f.close()\n"
      ],
      "execution_count": 19,
      "outputs": [
        {
          "output_type": "stream",
          "text": [
            "1번째 줄입니다.\n",
            "\n",
            "2번째 줄입니다.\n",
            "\n",
            "3번째 줄입니다.\n",
            "\n",
            "4번째 줄입니다.\n",
            "\n",
            "5번째 줄입니다.\n",
            "\n",
            "6번째 줄입니다.\n",
            "\n",
            "7번째 줄입니다.\n",
            "\n",
            "8번째 줄입니다.\n",
            "\n",
            "9번째 줄입니다.\n",
            "\n",
            "10번째 줄입니다.\n",
            "\n"
          ],
          "name": "stdout"
        }
      ]
    },
    {
      "cell_type": "code",
      "metadata": {
        "colab": {
          "base_uri": "https://localhost:8080/"
        },
        "id": "Bvip_q18lz-N",
        "outputId": "2f3c3981-19a3-440b-87e7-a9b235414549"
      },
      "source": [
        "# 사용자 입력을 이용한 화면 출력\n",
        "while 1:\n",
        "    data = input()\n",
        "    if not data:\n",
        "        break\n",
        "    print(data)"
      ],
      "execution_count": 23,
      "outputs": [
        {
          "output_type": "stream",
          "text": [
            "abcd\n",
            "abcd\n",
            "1\n",
            "1\n",
            "33\n",
            "33\n",
            "0\n",
            "0\n",
            "\n"
          ],
          "name": "stdout"
        }
      ]
    },
    {
      "cell_type": "code",
      "metadata": {
        "colab": {
          "base_uri": "https://localhost:8080/"
        },
        "id": "HTUW_ioAkpAo",
        "outputId": "4bf97f02-e7d5-4bfa-a5af-86154b01319e"
      },
      "source": [
        "# 2. readlines() 함수\n",
        "f = open(\"새파일.txt\", \"r\")\n",
        "lines = f.readlines()\n",
        "for line in lines:\n",
        "    print(line)  # , end=\"\")\n",
        "f.close()\n"
      ],
      "execution_count": 24,
      "outputs": [
        {
          "output_type": "stream",
          "text": [
            "1번째 줄입니다.\n",
            "\n",
            "2번째 줄입니다.\n",
            "\n",
            "3번째 줄입니다.\n",
            "\n",
            "4번째 줄입니다.\n",
            "\n",
            "5번째 줄입니다.\n",
            "\n",
            "6번째 줄입니다.\n",
            "\n",
            "7번째 줄입니다.\n",
            "\n",
            "8번째 줄입니다.\n",
            "\n",
            "9번째 줄입니다.\n",
            "\n",
            "10번째 줄입니다.\n",
            "\n"
          ],
          "name": "stdout"
        }
      ]
    },
    {
      "cell_type": "code",
      "metadata": {
        "colab": {
          "base_uri": "https://localhost:8080/"
        },
        "id": "IDj5s75FlIGP",
        "outputId": "46a3df99-1148-4675-c6d6-6115e7715972"
      },
      "source": [
        "\n",
        "# 3. readl() 함수\n",
        "f = open(\"새파일.txt\", \"r\")\n",
        "data = f.read()\n",
        "print(data)\n",
        "f.close()\n"
      ],
      "execution_count": 25,
      "outputs": [
        {
          "output_type": "stream",
          "text": [
            "1번째 줄입니다.\n",
            "2번째 줄입니다.\n",
            "3번째 줄입니다.\n",
            "4번째 줄입니다.\n",
            "5번째 줄입니다.\n",
            "6번째 줄입니다.\n",
            "7번째 줄입니다.\n",
            "8번째 줄입니다.\n",
            "9번째 줄입니다.\n",
            "10번째 줄입니다.\n",
            "\n"
          ],
          "name": "stdout"
        }
      ]
    },
    {
      "cell_type": "code",
      "metadata": {
        "colab": {
          "base_uri": "https://localhost:8080/"
        },
        "id": "q6HCAtePlJN7",
        "outputId": "2878f7fd-4436-4b4a-ea54-2bc6fd2ddf68"
      },
      "source": [
        "\n",
        "###################################################\n",
        "print(\"파일에 새로운 내용 추가하기\")\n",
        "#\n",
        "# 파일에 원래 있던 값을 유지하면서 단지 새로운 값만 추가\n",
        "# 파일을 추가 모드('a')로 열고 쓴다.\n",
        "#\n",
        "# adddata.py\n",
        "f = open(\"새파일.txt\", \"a\")\n",
        "for i in range(11, 20):\n",
        "    data = \"%d번째 줄입니다.\\n\" % i\n",
        "    f.write(data)\n",
        "f.close()\n"
      ],
      "execution_count": 26,
      "outputs": [
        {
          "output_type": "stream",
          "text": [
            "파일에 새로운 내용 추가하기\n"
          ],
          "name": "stdout"
        }
      ]
    },
    {
      "cell_type": "code",
      "metadata": {
        "colab": {
          "base_uri": "https://localhost:8080/"
        },
        "id": "42sJzkKwlhy8",
        "outputId": "8b0a2775-340b-46a6-e723-23fcfc2d9978"
      },
      "source": [
        "\n",
        "# 수정된 파일 확인\n",
        "f = open(\"새파일.txt\", \"r\")\n",
        "data = f.read()\n",
        "print(data)\n",
        "f.close()\n"
      ],
      "execution_count": 27,
      "outputs": [
        {
          "output_type": "stream",
          "text": [
            "1번째 줄입니다.\n",
            "2번째 줄입니다.\n",
            "3번째 줄입니다.\n",
            "4번째 줄입니다.\n",
            "5번째 줄입니다.\n",
            "6번째 줄입니다.\n",
            "7번째 줄입니다.\n",
            "8번째 줄입니다.\n",
            "9번째 줄입니다.\n",
            "10번째 줄입니다.\n",
            "11번째 줄입니다.\n",
            "12번째 줄입니다.\n",
            "13번째 줄입니다.\n",
            "14번째 줄입니다.\n",
            "15번째 줄입니다.\n",
            "16번째 줄입니다.\n",
            "17번째 줄입니다.\n",
            "18번째 줄입니다.\n",
            "19번째 줄입니다.\n",
            "\n"
          ],
          "name": "stdout"
        }
      ]
    },
    {
      "cell_type": "markdown",
      "metadata": {
        "id": "r3py9IAllkxK"
      },
      "source": [
        "##with in file io\n",
        "  with 문을 사용하면 with 블록을 벗어나는 순간 열린 파일 객체 f 가 자동으로 .close된다."
      ]
    },
    {
      "cell_type": "code",
      "metadata": {
        "colab": {
          "base_uri": "https://localhost:8080/"
        },
        "id": "M2j2uwrzljOu",
        "outputId": "e481ac04-a589-48ac-f2d0-bd1b6fe9e41b"
      },
      "source": [
        "\n",
        "###################################################\n",
        "print(\"with문과 함께 사용하기\")\n",
        "#\n",
        "# with문을 사용하면 with 블록을 벗어나는 순간\n",
        "# 열린 파일 객체 f가 자동으로 close 된다.\n",
        "#\n",
        "f = open(\"foo.txt\", \"w\")\n",
        "f.write(\"Life is too short, you need python\")\n",
        "f.close()\n"
      ],
      "execution_count": 28,
      "outputs": [
        {
          "output_type": "stream",
          "text": [
            "with문과 함께 사용하기\n"
          ],
          "name": "stdout"
        }
      ]
    },
    {
      "cell_type": "code",
      "metadata": {
        "id": "pfTNMngul-9L"
      },
      "source": [
        "\n",
        "with open(\"foo1.txt\", \"w\") as f:\n",
        "    f.write(\"Life is too short, you need python\")\n",
        "    f.write(\"PA13, ChoiSeokGi\")\n"
      ],
      "execution_count": 30,
      "outputs": []
    },
    {
      "cell_type": "markdown",
      "metadata": {
        "id": "GjxFIoFFmJK-"
      },
      "source": [
        "sys 모듈로 매개변수 주기"
      ]
    },
    {
      "cell_type": "code",
      "metadata": {
        "colab": {
          "base_uri": "https://localhost:8080/",
          "height": 73
        },
        "id": "HX1iduL2mEwr",
        "outputId": "b8bfb2ff-2647-4669-9bca-22a777216d42"
      },
      "source": [
        "\n",
        "###################################################\n",
        "print(\"sys 모듈로 매개변수 주기\")\n",
        "#\n",
        "\"\"\"\n",
        "#sys1.py\n",
        "import sys\n",
        "args = sys.argv[1:]\n",
        "for i in args:\n",
        "    print(i)\n",
        "\"\"\"\n",
        "\n",
        "######\n",
        "\"\"\"\n",
        "#sys2.py\n",
        "import sys\n",
        "args = sys.argv[1:]\n",
        "for i in args:\n",
        "    print(i.upper(), end=' ')\n",
        "\"\"\"\n"
      ],
      "execution_count": 31,
      "outputs": [
        {
          "output_type": "stream",
          "text": [
            "sys 모듈로 매개변수 주기\n"
          ],
          "name": "stdout"
        },
        {
          "output_type": "execute_result",
          "data": {
            "application/vnd.google.colaboratory.intrinsic+json": {
              "type": "string"
            },
            "text/plain": [
              "\"\\n#sys2.py\\nimport sys\\nargs = sys.argv[1:]\\nfor i in args:\\n    print(i.upper(), end=' ')\\n\""
            ]
          },
          "metadata": {
            "tags": []
          },
          "execution_count": 31
        }
      ]
    },
    {
      "cell_type": "code",
      "metadata": {
        "colab": {
          "base_uri": "https://localhost:8080/"
        },
        "id": "0xxmSYpYmO56",
        "outputId": "ddbc7662-23df-4877-883e-3d97378f9f01"
      },
      "source": [
        "import sys\n",
        "args = sys.argv[1:]\n",
        "for arg in args:\n",
        "  print(arg)"
      ],
      "execution_count": 37,
      "outputs": [
        {
          "output_type": "stream",
          "text": [
            "-f\n",
            "/root/.local/share/jupyter/runtime/kernel-47430a13-2e05-4cc8-a611-2eaa335b297d.json\n"
          ],
          "name": "stdout"
        }
      ]
    },
    {
      "cell_type": "code",
      "metadata": {
        "id": "fGBlcLGN-3pd"
      },
      "source": [
        "run sys1.py"
      ],
      "execution_count": 39,
      "outputs": []
    },
    {
      "cell_type": "code",
      "metadata": {
        "colab": {
          "base_uri": "https://localhost:8080/"
        },
        "id": "alrUxkuTmRGq",
        "outputId": "e46f9950-1a85-436d-9b0b-1851386adffa"
      },
      "source": [
        "run sys1.py a b c"
      ],
      "execution_count": 40,
      "outputs": [
        {
          "output_type": "stream",
          "text": [
            "a\n",
            "b\n",
            "c\n"
          ],
          "name": "stdout"
        }
      ]
    },
    {
      "cell_type": "code",
      "metadata": {
        "colab": {
          "base_uri": "https://localhost:8080/"
        },
        "id": "eBEGEXsQmmQX",
        "outputId": "eb8a93fd-a9d5-4f73-9352-9d28655f533b"
      },
      "source": [
        "run sys2.py aa bb cc"
      ],
      "execution_count": 41,
      "outputs": [
        {
          "output_type": "stream",
          "text": [
            "AA BB CC "
          ],
          "name": "stdout"
        }
      ]
    },
    {
      "cell_type": "code",
      "metadata": {
        "colab": {
          "base_uri": "https://localhost:8080/"
        },
        "id": "5jcx8CGWmnkz",
        "outputId": "10ec85c1-d335-4efd-c5ab-7282514672f8"
      },
      "source": [
        "!python sys2.py abc def"
      ],
      "execution_count": 42,
      "outputs": [
        {
          "output_type": "stream",
          "text": [
            "ABC DEF "
          ],
          "name": "stdout"
        }
      ]
    },
    {
      "cell_type": "code",
      "metadata": {
        "id": "yHDdUuCbmpLc"
      },
      "source": [
        ""
      ],
      "execution_count": null,
      "outputs": []
    }
  ]
}