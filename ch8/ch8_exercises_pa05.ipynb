{
  "nbformat": 4,
  "nbformat_minor": 0,
  "metadata": {
    "colab": {
      "name": "ch8_exercises_pa05.ipynb",
      "provenance": [],
      "collapsed_sections": [],
      "include_colab_link": true
    },
    "kernelspec": {
      "name": "python3",
      "display_name": "Python 3"
    }
  },
  "cells": [
    {
      "cell_type": "markdown",
      "metadata": {
        "id": "view-in-github",
        "colab_type": "text"
      },
      "source": [
        "<a href=\"https://colab.research.google.com/github/joi0804/PA05A/blob/main/ch8/ch8_exercises_pa05.ipynb\" target=\"_parent\"><img src=\"https://colab.research.google.com/assets/colab-badge.svg\" alt=\"Open In Colab\"/></a>"
      ]
    },
    {
      "cell_type": "markdown",
      "metadata": {
        "id": "ovY5jkD5dpxE"
      },
      "source": [
        "# ch8_exercises_pa05.ipynb"
      ]
    },
    {
      "cell_type": "markdown",
      "metadata": {
        "id": "SZw6UnxQWYBe"
      },
      "source": [
        "Q1. 문자열 바꾸기\n",
        "> 다음과 같은 문자열이 있다.\n",
        "\n",
        "```\n",
        "a:b:c:d\n",
        "```\n",
        "\n",
        "> 문자열의 split와 join 함수를 사용하여 위 문자열을 다음과 같이 고치시오.\n",
        "\n",
        "```\n",
        "a#b#c#d\n",
        "```\n"
      ]
    },
    {
      "cell_type": "code",
      "metadata": {
        "id": "rUNNaqJPdg7B",
        "colab": {
          "base_uri": "https://localhost:8080/"
        },
        "outputId": "12717119-2840-4518-d989-24e9522a2d09"
      },
      "source": [
        "# [Q1] Code-1 \n",
        "strr = \"a:b:c:d\"\n",
        "str2 = strr.split(\":\")\n",
        "\n",
        "print(str2)\n",
        "\n",
        "result = \"#\".join(str2)\n",
        "\n",
        "print(result)\n"
      ],
      "execution_count": 3,
      "outputs": [
        {
          "output_type": "stream",
          "text": [
            "['a', 'b', 'c', 'd']\n",
            "a#b#c#d\n"
          ],
          "name": "stdout"
        }
      ]
    },
    {
      "cell_type": "code",
      "metadata": {
        "id": "x0OIIHRmDwtd",
        "colab": {
          "base_uri": "https://localhost:8080/"
        },
        "outputId": "b832b94d-328f-4809-bf57-acbc02f854a7"
      },
      "source": [
        "# [Q1] Code-2\n",
        "strr = \"a:b:c:d\"\n",
        "result = strr.replace(\":\", \"#\")\n",
        "\n",
        "print(result)\n"
      ],
      "execution_count": 2,
      "outputs": [
        {
          "output_type": "stream",
          "text": [
            "a#b#c#d\n"
          ],
          "name": "stdout"
        }
      ]
    },
    {
      "cell_type": "markdown",
      "metadata": {
        "id": "re2-XrUYXF1m"
      },
      "source": [
        "## Q2. 딕셔너리 값 추출하기\n",
        "> 다음은 딕셔너리의 a에서 'C'라는 key에 해당하는 value를 출력하는 프로그램이다.\n",
        "```\n",
        ">>> a = {'A':90, 'B':80}\n",
        ">>> a['C']\n",
        "Traceback (most recent call last):\n",
        "  File \"<stdin>\", line 1, in <module>\n",
        "KeyError: 'C'\n",
        "```\n",
        ">> a 딕셔너리에는 'C'라는 key가 없으므로 위와 같은 오류가 발생한다.  \n",
        ">>'C'에 해당하는 key 값이 없을 경우 오류 대신 70을 얻을 수 있도록 수정하시오."
      ]
    },
    {
      "cell_type": "code",
      "metadata": {
        "id": "5MBLUZ5WXF1q",
        "colab": {
          "base_uri": "https://localhost:8080/"
        },
        "outputId": "80d15907-dc07-49b2-bab3-c9426769fd19"
      },
      "source": [
        "# [Q2] Code-1\n",
        "a = {'A':90, 'B':80}\n",
        "a.get('C', 70)\n",
        "\n"
      ],
      "execution_count": 4,
      "outputs": [
        {
          "output_type": "execute_result",
          "data": {
            "text/plain": [
              "70"
            ]
          },
          "metadata": {
            "tags": []
          },
          "execution_count": 4
        }
      ]
    },
    {
      "cell_type": "code",
      "metadata": {
        "id": "viVk7IDSEQZX",
        "colab": {
          "base_uri": "https://localhost:8080/"
        },
        "outputId": "702d354b-87d7-4202-fd9f-8ad3bda1b9ef"
      },
      "source": [
        "# [Q2] Code-2\n",
        "a = {'A':90, 'B':80}\n",
        "a['C'] = 70\n",
        "\n",
        "print(a)\n",
        "\n"
      ],
      "execution_count": 5,
      "outputs": [
        {
          "output_type": "stream",
          "text": [
            "{'A': 90, 'B': 80, 'C': 70}\n"
          ],
          "name": "stdout"
        }
      ]
    },
    {
      "cell_type": "markdown",
      "metadata": {
        "id": "UZy8lu_BXGnT"
      },
      "source": [
        "## Q3. 리스트의 더하기와 extend 함수\n",
        "> 다음과 같은 리스트 a가 있다.\n",
        "```\n",
        "a = [1, 2, 3]\n",
        "```\n",
        "> 리스트 a에 [4, 5]를 + 기호를 사용하여 더한 결과는 다음과 같다.\n",
        "```\n",
        ">>> a = [1, 2, 3]\n",
        ">>> a = a + [4,5]\n",
        ">>> a\n",
        "[1, 2, 3, 4, 5]\n",
        "```\n",
        "> 리스트 a에 [4,5]를 extend를 사용하여 더한 결과는 다음과 같다.\n",
        "```\n",
        ">>> a = [1, 2, 3]\n",
        ">>> a.extend([4, 5])\n",
        ">>> a\n",
        "[1, 2, 3, 4, 5]\n",
        "```\n",
        "\n",
        "> ### + 기호를 사용하여 더한 것과 extend한 것의 차이점이 있을까? 있다면 그 차이점을 설명하시오."
      ]
    },
    {
      "cell_type": "code",
      "metadata": {
        "id": "H9T_sXHzXGnW",
        "colab": {
          "base_uri": "https://localhost:8080/"
        },
        "outputId": "52cce510-19b3-4856-882e-a2ea02e54e09"
      },
      "source": [
        "# [Q3] Explain (코드와 주석으로 설명하시오)\n",
        "\n",
        "def varExtDiff(a):\n",
        "  # 초기값 a 를 받아 + 를 사용\n",
        "  addressPrint(a)\n",
        "  addressPrint(a + [4, 5])\n",
        "\n",
        "  # 초기값 a를 다시 출력, 위에서 a의 메모리를 수정한 것이 아니라 그대로 라는 것을 증명\n",
        "  addressPrint(a)\n",
        "\n",
        "  # extend 를 이용하여 출력\n",
        "  a.extend([4, 5])\n",
        "  # extend 를 이용한 결과\n",
        "  addressPrint(a)\n",
        "\n",
        "\n",
        "# 별도의 print 메서드\n",
        "def addressPrint(a):\n",
        "  print(id(a))\n",
        "  print(a)\n",
        "\n",
        "# 실행\n",
        "varExtDiff([1, 2, 3])"
      ],
      "execution_count": 6,
      "outputs": [
        {
          "output_type": "stream",
          "text": [
            "140188186789200\n",
            "[1, 2, 3]\n",
            "140188125574400\n",
            "[1, 2, 3, 4, 5]\n",
            "140188186789200\n",
            "[1, 2, 3]\n",
            "140188186789200\n",
            "[1, 2, 3, 4, 5]\n"
          ],
          "name": "stdout"
        }
      ]
    },
    {
      "cell_type": "markdown",
      "metadata": {
        "id": "fqypxxqTXHY7"
      },
      "source": [
        "## Q4. 리스트 총합 구하기\n",
        "> 다음은 A학급 학생의 점수를 나타내는 리스트이다. 다음 리스트에서 50점 이상 점수의 총합을 구하시오.\n",
        "```\n",
        "A = [20, 55, 67, 82, 45, 33, 90, 87, 100, 25]\n",
        "```"
      ]
    },
    {
      "cell_type": "code",
      "metadata": {
        "id": "oQ5UnmayXHY-",
        "colab": {
          "base_uri": "https://localhost:8080/"
        },
        "outputId": "6b499b33-9c95-4189-b4e5-c317138da1f1"
      },
      "source": [
        "# [Q4] Code-1\n",
        "score = [20, 55, 67, 82, 45, 33, 90, 87, 100, 25]\n",
        "\n",
        "result = 0\n",
        "\n",
        "while score:\n",
        "  overScore = score.pop()\n",
        "\n",
        "  if overScore >= 50:\n",
        "    result += overScore\n",
        "\n",
        "print(result)\n"
      ],
      "execution_count": 51,
      "outputs": [
        {
          "output_type": "stream",
          "text": [
            "481\n"
          ],
          "name": "stdout"
        }
      ]
    },
    {
      "cell_type": "code",
      "metadata": {
        "id": "pMQ1e6jpFomt",
        "colab": {
          "base_uri": "https://localhost:8080/"
        },
        "outputId": "c80aa1e3-5572-4cd5-bd34-e1024920d902"
      },
      "source": [
        "# [Q4] Code-2\n",
        "score = [20, 55, 67, 82, 45, 33, 90, 87, 100, 25]\n",
        "\n",
        "result = 0\n",
        "\n",
        "for i in score:\n",
        "  \n",
        "  if i >= 50:\n",
        "    result += i\n",
        "\n",
        "print(result)\n"
      ],
      "execution_count": 50,
      "outputs": [
        {
          "output_type": "stream",
          "text": [
            "481\n"
          ],
          "name": "stdout"
        }
      ]
    },
    {
      "cell_type": "markdown",
      "metadata": {
        "id": "NKsvciXZXIL-"
      },
      "source": [
        "## Q5. 피보나치 함수\n",
        "> 첫 번째 항의 값이 0이고 두 번째 항의 값이 1일 때, 이후에 이어지는 항은 이전의 두 항을 더한 값으로 이루어지는 수열을 피보나치 수열이라고 한다.\n",
        "```\n",
        "0, 1, 1, 2, 3, 5, 8, 13, 21, ...\n",
        "```\n",
        "> 입력을 정수 n으로 받았을 때, n 이하까지의 피보나치 수열을 출력하는 함수를 작성해 보자.\n"
      ]
    },
    {
      "cell_type": "code",
      "metadata": {
        "id": "5MZQYOVjXIL_",
        "colab": {
          "base_uri": "https://localhost:8080/"
        },
        "outputId": "02034995-c1c5-4084-fd50-667ae8f611c1"
      },
      "source": [
        "# [Q5] Code-1\n",
        "def fib(n):\n",
        "  if n == 0 : return 0\n",
        "  if n == 1 : return 1\n",
        "  \n",
        "  return fib(n-2) + fib(n-1)\n",
        "\n",
        "\n",
        "for i in range(int(input('정수 입력: '))):\n",
        "  print(fib(i))\n"
      ],
      "execution_count": 49,
      "outputs": [
        {
          "output_type": "stream",
          "text": [
            "정수 입력: 10\n",
            "0\n",
            "1\n",
            "1\n",
            "2\n",
            "3\n",
            "5\n",
            "8\n",
            "13\n",
            "21\n",
            "34\n"
          ],
          "name": "stdout"
        }
      ]
    },
    {
      "cell_type": "code",
      "metadata": {
        "id": "JH2Rm_TkF_eu",
        "colab": {
          "base_uri": "https://localhost:8080/"
        },
        "outputId": "ef3d5a0a-9f8f-4535-a143-6ac3da71fd83"
      },
      "source": [
        "# [Q5] Code-2\n",
        "def fibo(n):\n",
        "\n",
        "  rl = pow(5, 0.5)\n",
        "  ratio = (1+ rl) / 2\n",
        "\n",
        "  return int((pow(ratio, n) - pow(1 - ratio, n)) / rl)\n",
        "\n",
        "\n",
        "for i in range(int(input('정수 입력: '))):\n",
        "\n",
        "  print(fibo(i))\n"
      ],
      "execution_count": 48,
      "outputs": [
        {
          "output_type": "stream",
          "text": [
            "정수 입력: 55\n",
            "0\n",
            "1\n",
            "1\n",
            "2\n",
            "3\n",
            "5\n",
            "8\n",
            "13\n",
            "21\n",
            "34\n",
            "55\n",
            "89\n",
            "144\n",
            "233\n",
            "377\n",
            "610\n",
            "987\n",
            "1597\n",
            "2584\n",
            "4181\n",
            "6765\n",
            "10946\n",
            "17711\n",
            "28657\n",
            "46368\n",
            "75025\n",
            "121393\n",
            "196418\n",
            "317811\n",
            "514229\n",
            "832040\n",
            "1346269\n",
            "2178309\n",
            "3524578\n",
            "5702887\n",
            "9227465\n",
            "14930352\n",
            "24157817\n",
            "39088169\n",
            "63245986\n",
            "102334155\n",
            "165580141\n",
            "267914296\n",
            "433494437\n",
            "701408733\n",
            "1134903170\n",
            "1836311903\n",
            "2971215073\n",
            "4807526976\n",
            "7778742049\n",
            "12586269025\n",
            "20365011074\n",
            "32951280099\n",
            "53316291173\n",
            "86267571272\n"
          ],
          "name": "stdout"
        }
      ]
    },
    {
      "cell_type": "markdown",
      "metadata": {
        "id": "-3KHtOOoXJBV"
      },
      "source": [
        "## Q6. 숫자의 총합 구하기\n",
        "> 사용자로부터 다음과 같은 숫자를 입력받아 입력받은 숫자의 총합을 구하는 프로그램을 작성하시오. (단 숫자는 콤마로 구분하여 입력한다.)\n",
        "\n",
        "```\n",
        "65,45,2,3,45,8\n",
        "```\n"
      ]
    },
    {
      "cell_type": "code",
      "metadata": {
        "id": "AjYR0lUaXJBa",
        "colab": {
          "base_uri": "https://localhost:8080/"
        },
        "outputId": "93c46472-c124-405f-d9f6-f0146b1a305f"
      },
      "source": [
        "# [Q6] Code-1\n",
        "num_input = input(\"숫자를 입력: \")\n",
        "num_input = num_input.replace(\" \", \"\")\n",
        "numbers = num_input.split(\",\")\n",
        "total = 0\n",
        "for n in numbers:\n",
        "  total += int(n)\n",
        "\n",
        "print(total)\n"
      ],
      "execution_count": 47,
      "outputs": [
        {
          "output_type": "stream",
          "text": [
            "숫자를 입력: 65,45,2,3,45,8\n",
            "168\n"
          ],
          "name": "stdout"
        }
      ]
    },
    {
      "cell_type": "code",
      "metadata": {
        "id": "JpkVe0zxGTK1",
        "colab": {
          "base_uri": "https://localhost:8080/"
        },
        "outputId": "8c99d695-2f34-4b17-e178-ba19db975410"
      },
      "source": [
        "# [Q6] Code-2\n",
        "num = map(int, input(\"숫자를 입력: \").replace(\" \", \"\").split(\",\"))\n",
        "total = 0\n",
        "\n",
        "for n in num:\n",
        "  total += n\n",
        "\n",
        "print(total)\n"
      ],
      "execution_count": 46,
      "outputs": [
        {
          "output_type": "stream",
          "text": [
            "숫자를 입력: 65,45,2,3,45,8\n",
            "168\n"
          ],
          "name": "stdout"
        }
      ]
    },
    {
      "cell_type": "markdown",
      "metadata": {
        "id": "CiMJjZQ_GdyV"
      },
      "source": [
        "## Q7. 한 줄 구구단\n",
        "> 사용자로부터 2~9의 숫자 중 하나를 입력받아 해당 숫자의 구구단을 한 줄로 출력하는 프로그램을 작성하시오.\n",
        "\n",
        "> 실행 예)\n",
        "```\n",
        "구구단을 출력할 숫자를 입력하세요(2~9): 2\n",
        "2 4 6 8 10 12 14 16 18\n",
        "```\n"
      ]
    },
    {
      "cell_type": "code",
      "metadata": {
        "id": "_8TQZNIwGdyo",
        "colab": {
          "base_uri": "https://localhost:8080/"
        },
        "outputId": "d0b09675-e20d-4e08-9f76-ecdf0845c5e2"
      },
      "source": [
        "# [Q7] Code-1\n",
        "num = input(\"구구단을 출력할 숫자를 입력하세요(2~9): \")\n",
        "\n",
        "n = int(num)\n",
        "\n",
        "for i in range(1, 10):\n",
        "  print(i*n, end = ' ')"
      ],
      "execution_count": 38,
      "outputs": [
        {
          "output_type": "stream",
          "text": [
            "구구단을 출력할 숫자를 입력하세요(2~9): 3\n",
            "3 6 9 12 15 18 21 24 27 "
          ],
          "name": "stdout"
        }
      ]
    },
    {
      "cell_type": "code",
      "metadata": {
        "id": "HRX-wvenGdyx",
        "colab": {
          "base_uri": "https://localhost:8080/"
        },
        "outputId": "4db01c54-861a-4c02-f5e9-4ac0698b403c"
      },
      "source": [
        "# [Q7] Code-2\n",
        "num = input(\"구구단을 출력할 숫자를 입력하세요(2~9): \")\n",
        "\n",
        "n = int(num)\n",
        "i = 1\n",
        "\n",
        "while(i < 10):\n",
        "  print(i * n, end = ' ')\n",
        "  i += 1\n"
      ],
      "execution_count": 39,
      "outputs": [
        {
          "output_type": "stream",
          "text": [
            "구구단을 출력할 숫자를 입력하세요(2~9): 2\n",
            "2 4 6 8 10 12 14 16 18 "
          ],
          "name": "stdout"
        }
      ]
    },
    {
      "cell_type": "markdown",
      "metadata": {
        "id": "YrS3b88QbmKo"
      },
      "source": [
        "## Q8. 역순 저장\n",
        "> 다음과 같은 내용의 파일 abc.txt가 있다.\n",
        "```\n",
        "AAA\n",
        "BBB\n",
        "CCC\n",
        "DDD\n",
        "EEE\n",
        "```\n",
        "> 이 파일의 내용을 다음과 같이 역순으로 바꾸어 저장하시오.\n",
        "```\n",
        "EEE\n",
        "DDD\n",
        "CCC\n",
        "BBB\n",
        "AAA\n",
        "```"
      ]
    },
    {
      "cell_type": "code",
      "metadata": {
        "id": "Ll_2InMWbmKq"
      },
      "source": [
        "# [Q8] Code-1\n",
        "f = open('/content/abc.txt', 'r')\n",
        "lines = f.readlines()\n",
        "f.close()\n",
        "\n",
        "lines.reverse()\n"
      ],
      "execution_count": 44,
      "outputs": []
    },
    {
      "cell_type": "code",
      "metadata": {
        "id": "N3uG53JsHIYX",
        "colab": {
          "base_uri": "https://localhost:8080/"
        },
        "outputId": "2c6fcd1b-119f-4e73-be4c-444b15a37f00"
      },
      "source": [
        "# [Q8] Code-2\n",
        "f = open('/content/abc.txt', 'r')\n",
        "a = f.readlines()\n",
        "f.close\n",
        "\n",
        "for a in reversed(open(\"/content/abc.txt\").readlines()):\n",
        "    print(a.strip())\n"
      ],
      "execution_count": 45,
      "outputs": [
        {
          "output_type": "stream",
          "text": [
            "EEE\n",
            "DDD\n",
            "CCC\n",
            "BBB\n",
            "AAA\n"
          ],
          "name": "stdout"
        }
      ]
    },
    {
      "cell_type": "markdown",
      "metadata": {
        "id": "OcSDHHYkK6lZ"
      },
      "source": [
        "## Q9. 평균값 구하기\n",
        "> 다음과 같이 총 10줄로 이루어진 sample.txt 파일이 있다. sample.txt 파일의 숫자 값을 모두 읽어 총합과 평균 값을 구한 후 평균 값을 result.txt 파일에 쓰는 프로그램을 작성하시오.\n",
        "```\n",
        "70\n",
        "60\n",
        "55\n",
        "75\n",
        "95\n",
        "90\n",
        "80\n",
        "80\n",
        "85\n",
        "100\n",
        "```\n"
      ]
    },
    {
      "cell_type": "code",
      "metadata": {
        "id": "GmaaVGqrK6le",
        "colab": {
          "base_uri": "https://localhost:8080/"
        },
        "outputId": "f2071199-2fe0-4799-9a91-dda480e1f84c"
      },
      "source": [
        "# [Q9] Code-1\n",
        "f = open(\"/content/Q9.txt\",'r')\n",
        "grade = f.readlines()\n",
        "grade = list(map(int, grade))\n",
        "\n",
        "Sum = sum(grade)\n",
        "average = Sum/len(grade)\n",
        "print(\"총합: %d\"%Sum)\n",
        "\n",
        "f = open(\"result.txt\", \"w\")\n",
        "f.write(str(average))          # 숫자는 txt에 바로 쓸 수 없기 때문에 문자형으로 변환\n",
        "f.close()\n",
        "\n",
        "f = open(\"result.txt\",\"r\")\n",
        "average = f.read()\n",
        "print(\"평균:\",average)\n",
        "f.close()"
      ],
      "execution_count": 61,
      "outputs": [
        {
          "output_type": "stream",
          "text": [
            "총합: 790\n",
            "평균: 79.0\n"
          ],
          "name": "stdout"
        }
      ]
    },
    {
      "cell_type": "code",
      "metadata": {
        "id": "kgMy9LVYHfRF",
        "colab": {
          "base_uri": "https://localhost:8080/"
        },
        "outputId": "caeea494-c6c8-414f-e190-53987e7655dd"
      },
      "source": [
        "# [Q9] Code-2\n",
        "f = open(\"/content/Q9.txt\")\n",
        "grade = f.readlines( )         # sample.txt를 줄 단위로 lines에 저장\n",
        "f.close( )\n",
        "Sum = 0\n",
        "\n",
        "for num in grade:\n",
        "    score = int(num)          # 줄에 적힌 숫자를 정수단위로 변환\n",
        "    Sum += score\n",
        "average = Sum / len(grade)\n",
        "print(Sum)\n",
        "\n",
        "f = open(\"result.txt\", \"w\")\n",
        "f.write(str(average))          # 숫자는 txt에 바로 쓸 수 없기 때문에 문자형으로 변환\n",
        "f.close()\n",
        "\n",
        "f = open(\"result.txt\",\"r\")\n",
        "grade_average = f.read()\n",
        "print(grade_average)\n",
        "f.close()\n"
      ],
      "execution_count": 63,
      "outputs": [
        {
          "output_type": "stream",
          "text": [
            "790\n",
            "79.0\n"
          ],
          "name": "stdout"
        }
      ]
    },
    {
      "cell_type": "markdown",
      "metadata": {
        "id": "anwB_DjuK60j"
      },
      "source": [
        "## Q10. 사칙연산 계산기\n",
        "> 다음과 같이 동작하는 클래스 Calculator를 작성하시오.\n",
        "```\n",
        ">>> cal1 = Calculator([1,2,3,4,5])\n",
        ">>> cal1.sum() # 합계\n",
        "15\n",
        ">>> cal1.avg() # 평균\n",
        "3.0\n",
        ">>> cal2 = Calculator([6,7,8,9,10])\n",
        ">>> cal2.sum() # 합계\n",
        "40\n",
        ">>> cal2.avg() # 평균\n",
        "8.0\n",
        "```\n"
      ]
    },
    {
      "cell_type": "code",
      "metadata": {
        "id": "QJTNoSqtMrIM",
        "colab": {
          "base_uri": "https://localhost:8080/"
        },
        "outputId": "3d8b38e6-4e2e-4b37-a008-5f434dfd2015"
      },
      "source": [
        "# [Q10] Code-1\n",
        "class Cal:\n",
        "  def __init__(self, numberList):\n",
        "    self.numberList = numberList\n",
        "  \n",
        "  def sum(self):\n",
        "    result = 0\n",
        "    for num in self.numberList:\n",
        "      result += num\n",
        "    return result\n",
        "\n",
        "  def avg(self):\n",
        "    total = self.sum()\n",
        "    return total / len(self.numberList)\n",
        "\n",
        "cal1 = Cal([1,2,3,4,5])\n",
        "print(cal1.sum())\n",
        "print(cal1.avg())\n",
        "\n",
        "cal2 = Cal([6,7,8,9,10])\n",
        "print(cal2.sum())\n",
        "print(cal2.avg())\n"
      ],
      "execution_count": 27,
      "outputs": [
        {
          "output_type": "stream",
          "text": [
            "15\n",
            "3.0\n",
            "40\n",
            "8.0\n"
          ],
          "name": "stdout"
        }
      ]
    },
    {
      "cell_type": "code",
      "metadata": {
        "id": "91hia3WgH2gW",
        "colab": {
          "base_uri": "https://localhost:8080/"
        },
        "outputId": "ac88bb7d-4f65-4473-b2c5-07e4209349a1"
      },
      "source": [
        "# [Q10] Code-2\n",
        "class Cal22:\n",
        "  def setdata(self, one, two, three, four, five):\n",
        "    self.one = one\n",
        "    self.two = two\n",
        "    self.three = three\n",
        "    self.four = four\n",
        "    self.five = five\n",
        "  \n",
        "  def sum(self):\n",
        "    result = self.one + self.two + self.three + self.four + self.five\n",
        "    return result\n",
        "\n",
        "  def avg(self):\n",
        "    total = self.sum()\n",
        "    return total / 5\n",
        "\n",
        "cal1 = Cal22()\n",
        "cal1.setdata(1,2,3,4,5)\n",
        "print(cal1.sum())\n",
        "print(cal1.avg())\n",
        "\n",
        "cal2 = Cal22()\n",
        "cal2.setdata(6,7,8,9,10)\n",
        "print(cal2.sum())\n",
        "print(cal2.avg())\n"
      ],
      "execution_count": 26,
      "outputs": [
        {
          "output_type": "stream",
          "text": [
            "15\n",
            "3.0\n",
            "40\n",
            "8.0\n"
          ],
          "name": "stdout"
        }
      ]
    },
    {
      "cell_type": "markdown",
      "metadata": {
        "id": "gNnjBaJvH_51"
      },
      "source": [
        "\n",
        "\n",
        "---\n",
        "\n",
        "\n"
      ]
    },
    {
      "cell_type": "markdown",
      "metadata": {
        "id": "8xQf6xJ4K7M_"
      },
      "source": [
        "## Q11. 모듈 사용 방법\n",
        "> ./doit 디렉터리에 mymod.py 파이썬 모듈이 있다고 가정해 보자. 명령 프롬프트 창에서 파이썬 셸을 열어 이 모듈을 import해서 사용할 수 있는 방법을 모두 기술하시오. (즉 다음과 같이 import mymod를 수행할 때 오류가 없어야 한다.)\n",
        "```\n",
        ">>> import mymod\n",
        ">>>\n",
        "```"
      ]
    },
    {
      "cell_type": "code",
      "metadata": {
        "id": "4zv7LXPjJiCH"
      },
      "source": [
        "!mkdir doit\n",
        "# 실행 후 새로 고침!\n",
        "# mymod.py 를 업로드한다."
      ],
      "execution_count": 7,
      "outputs": []
    },
    {
      "cell_type": "code",
      "metadata": {
        "id": "JA_3n4g8JiB7",
        "colab": {
          "base_uri": "https://localhost:8080/"
        },
        "outputId": "ed78dc20-c945-450f-830b-83906c348197"
      },
      "source": [
        "!mv mymod.py ./doit\n",
        "# 실행 후 새로 고침!"
      ],
      "execution_count": 8,
      "outputs": [
        {
          "output_type": "stream",
          "text": [
            "mv: cannot stat 'mymod.py': No such file or directory\n"
          ],
          "name": "stdout"
        }
      ]
    },
    {
      "cell_type": "code",
      "metadata": {
        "id": "UCO7aRh5Msx6"
      },
      "source": [
        "# [Q11] Code-1\n",
        "import sys\n",
        "sys.path.append(\"/content/doit\")\n",
        "import mymod\n",
        "\n",
        "from doit import mymod\n"
      ],
      "execution_count": null,
      "outputs": []
    },
    {
      "cell_type": "code",
      "metadata": {
        "id": "aX_wLb53IgUl"
      },
      "source": [
        "# [Q11] Code-2\n",
        "import os\n",
        "os.chdir(\"/content/doit\")\n"
      ],
      "execution_count": 9,
      "outputs": []
    },
    {
      "cell_type": "code",
      "metadata": {
        "colab": {
          "base_uri": "https://localhost:8080/",
          "height": 35
        },
        "id": "LQb4pKf-DBNR",
        "outputId": "8095df89-2748-4593-a5ca-6c3619015fa5"
      },
      "source": [
        "os.getcwd()"
      ],
      "execution_count": 11,
      "outputs": [
        {
          "output_type": "execute_result",
          "data": {
            "application/vnd.google.colaboratory.intrinsic+json": {
              "type": "string"
            },
            "text/plain": [
              "'/content/doit'"
            ]
          },
          "metadata": {
            "tags": []
          },
          "execution_count": 11
        }
      ]
    },
    {
      "cell_type": "code",
      "metadata": {
        "id": "YxUHOM7nDDuZ"
      },
      "source": [
        "import mymod"
      ],
      "execution_count": null,
      "outputs": []
    },
    {
      "cell_type": "markdown",
      "metadata": {
        "id": "Q6QYCZ9HM3DW"
      },
      "source": [
        "## Q12. 오류와 예외 처리\n",
        "> 다음 코드의 실행 결과를 예측하고 그 이유에 대해 설명하시오.\n",
        "\n",
        "```\n",
        "result = 0\n",
        "\n",
        "try:\n",
        "    [1, 2, 3][3]\n",
        "    \"a\"+1\n",
        "    4 / 0\n",
        "except TypeError:\n",
        "    result += 1\n",
        "except ZeroDivisionError:\n",
        "    result += 2\n",
        "except IndexError:\n",
        "    result += 3\n",
        "finally:\n",
        "    result += 4\n",
        "\n",
        "print(result)\n",
        "```\n"
      ]
    },
    {
      "cell_type": "code",
      "metadata": {
        "id": "hDf0Js4KLOrl"
      },
      "source": [
        "# [Q12] Explain (코드와 주석으로 설명하시오)\n",
        "try: #try문 안의 [1, 2, 3][3] 이라는 문장 수행 시 IndexError가 발생하여 except IndexError: 구문으로 이동하게 되어 result에 3이 더해져 3이 된다.\n",
        "    [1, 2, 3][3]\n",
        "    \"a\"+1\n",
        "    4 / 0\n",
        "except TypeError:\n",
        "    result += 1\n",
        "except ZeroDivisionError:\n",
        "    result += 2\n",
        "except IndexError:\n",
        "    result += 3\n",
        "finally: # 최종적으로 finally 구문이 실행되어 result에 4가 더해져 7이 된다.\n",
        "    result += 4\n",
        " \n",
        "print(result) # print(result)가 수행되어 result의 최종 값인 7이 출력된다."
      ],
      "execution_count": null,
      "outputs": []
    },
    {
      "cell_type": "markdown",
      "metadata": {
        "id": "x2IYgozSM3gd"
      },
      "source": [
        "## Q13. DashInsert 함수\n",
        "> DashInsert 함수는 숫자로 구성된 문자열을 입력받은 뒤 문자열 안에서 홀수가 연속되면 두 수 사이에 - 를 추가하고, 짝수가 연속되면 * 를 추가하는 기능을 갖고 있다. DashInsert 함수를 완성하시오.\n",
        "```\n",
        "입력 예시: 4546793\n",
        "출력 예시: 454*67-9-3\n",
        "```\n"
      ]
    },
    {
      "cell_type": "code",
      "metadata": {
        "id": "FiKNOu9HM3DX",
        "colab": {
          "base_uri": "https://localhost:8080/"
        },
        "outputId": "a5ace800-340c-4d7b-d1a0-31a2ce68c450"
      },
      "source": [
        "# [Q13] Code-1\n",
        "\n",
        "data = \"4546793\"\n",
        "numbers = list(map(int, data))\n",
        "result = []\n",
        "\n",
        "for i, num in enumerate(numbers):\n",
        "    result.append(str(num))\n",
        "    if i < len(numbers)-1:\n",
        "        is_odd = num % 2 == 1\n",
        "        is_next_odd = numbers[i+1] % 2 == 1\n",
        "        if is_odd and is_next_odd:\n",
        "            result.append(\"-\")\n",
        "        elif not is_odd and not is_next_odd:\n",
        "            result.append(\"*\")\n",
        "\n",
        "print(\"\".join(result))"
      ],
      "execution_count": 22,
      "outputs": [
        {
          "output_type": "stream",
          "text": [
            "454*67-9-3\n"
          ],
          "name": "stdout"
        }
      ]
    },
    {
      "cell_type": "code",
      "metadata": {
        "id": "d_hmy1RZLqBg",
        "colab": {
          "base_uri": "https://localhost:8080/"
        },
        "outputId": "463b4828-bbd3-4c64-e54f-5b033d00c00e"
      },
      "source": [
        "# [Q13] Code-2\n",
        "a=\"4546793\"\n",
        "b=[]\n",
        "\n",
        "for i in range(0,len(a)-1):\n",
        "    if (int(a[i]) % 2 == 0 and int(a[i + 1]) % 2 == 0) : # 연속적인 짝수\n",
        "        b.append(a[i]+\"*\")\n",
        "\n",
        "\n",
        "    elif (int(a[i]) % 2 == 1 and int(a[i + 1]) % 2 == 1) : # 연속적인 홀수\n",
        "        b.append(a[i] + \"-\")\n",
        "\n",
        "    else :\n",
        "        b.append(a[i])\n",
        "\n",
        "print(\"\".join(b) + a[len(a) - 1])\n"
      ],
      "execution_count": 19,
      "outputs": [
        {
          "output_type": "stream",
          "text": [
            "454*67-9-3\n"
          ],
          "name": "stdout"
        }
      ]
    },
    {
      "cell_type": "markdown",
      "metadata": {
        "id": "HDbz71sNL2Qt"
      },
      "source": [
        "## Q14. 문자열 압축하기\n",
        "> 문자열을 입력받아 같은 문자가 연속적으로 반복되는 경우에 그 반복 횟수를 표시해 문자열을 압축하여 표시하시오.\n",
        "```\n",
        "입력 예시: aaabbcccccca\n",
        "출력 예시: a3b2c6a1\n",
        "```\n",
        "\n"
      ]
    },
    {
      "cell_type": "code",
      "metadata": {
        "id": "Hs88sVjjL2Qw",
        "colab": {
          "base_uri": "https://localhost:8080/"
        },
        "outputId": "7d9a672e-7355-464d-cdc8-ee812ebf3b72"
      },
      "source": [
        "# [Q14] Code-1\n",
        "def num(s):\n",
        "    _c = \"\"\n",
        "    cnt = 0\n",
        "    result = \"\"\n",
        "    for c in s:\n",
        "        if c!=_c:\n",
        "            _c = c\n",
        "            if cnt: result += str(cnt)\n",
        "            result += c\n",
        "            cnt = 1\n",
        "        else:\n",
        "            cnt +=1\n",
        "    if cnt: result += str(cnt)\n",
        "    return result\n",
        "\n",
        "print (num(\"aaabbcccccca\"))\n"
      ],
      "execution_count": 18,
      "outputs": [
        {
          "output_type": "stream",
          "text": [
            "a3b2c6a1\n"
          ],
          "name": "stdout"
        }
      ]
    },
    {
      "cell_type": "code",
      "metadata": {
        "id": "XF4F0DW0L2Q1",
        "colab": {
          "base_uri": "https://localhost:8080/"
        },
        "outputId": "258d7937-d20d-44c7-b5b3-0fb2ff52939c"
      },
      "source": [
        "# [Q14] Code-2\n",
        "data='aaabbcccccca'\n",
        "\n",
        "encoded=''\n",
        "\n",
        "count=1\n",
        "for i in range(1,len(data)):\n",
        "    if data[i]==data[i-1]:\n",
        "        count+=1\n",
        "    else:\n",
        "        encoded+=data[i-1]+str(count)\n",
        "        count=1\n",
        "    if i==len(data)-1:\n",
        "        encoded+=data[i]+str(count)\n",
        "print(encoded)\n"
      ],
      "execution_count": 17,
      "outputs": [
        {
          "output_type": "stream",
          "text": [
            "a3b2c6a1\n"
          ],
          "name": "stdout"
        }
      ]
    },
    {
      "cell_type": "markdown",
      "metadata": {
        "id": "tCF274jtL3Vk"
      },
      "source": [
        "## Q15. Duplicate Numbers\n",
        "> 0 ~ 9의 문자로 된 숫자를 입력받았을 때, 이 입력값이 0 ~ 9의 모든 숫자를 각각 한 번씩만 사용한 것인지 확인하는 함수를 작성하시오.\n",
        "```\n",
        "입력 예시: 0123456789 01234 01234567890 6789012345 012322456789\n",
        "출력 예시: true false false true false\n",
        "```\n"
      ]
    },
    {
      "cell_type": "code",
      "metadata": {
        "id": "3uQFw6jGL3Vm",
        "colab": {
          "base_uri": "https://localhost:8080/"
        },
        "outputId": "136ce64e-b476-4582-cc70-a24014095070"
      },
      "source": [
        "# [Q15] Code-1\n",
        "def chkDupNum(s):\n",
        "    result = []\n",
        "    for num in s:\n",
        "        if num not in result:\n",
        "            result.append(num)\n",
        "        else:\n",
        "            return False\n",
        "    return len(result) == 10\n",
        "\n",
        "print(chkDupNum(\"0123456789\"))      \n",
        "print(chkDupNum(\"01234\"))          \n",
        "print(chkDupNum(\"01234567890\"))     \n",
        "print(chkDupNum(\"6789012345\"))     \n",
        "print(chkDupNum(\"012322456789\"))\n"
      ],
      "execution_count": 16,
      "outputs": [
        {
          "output_type": "stream",
          "text": [
            "True\n",
            "False\n",
            "False\n",
            "True\n",
            "False\n"
          ],
          "name": "stdout"
        }
      ]
    },
    {
      "cell_type": "code",
      "metadata": {
        "id": "Bdt_UGgZL3Vr",
        "colab": {
          "base_uri": "https://localhost:8080/"
        },
        "outputId": "6368007a-8eb3-4b87-8c8c-10142592b24f"
      },
      "source": [
        "# [Q15] Code-2\n",
        "def dup_check(nums):\n",
        "    if len(nums) == len(set(nums))== 10:\n",
        "        return True\n",
        "    else:\n",
        "        return False\n",
        "\n",
        "print(dup_check(\"0123456789\"))      \n",
        "print(dup_check(\"01234\"))          \n",
        "print(dup_check(\"01234567890\"))     \n",
        "print(dup_check(\"6789012345\"))     \n",
        "print(dup_check(\"012322456789\"))\n"
      ],
      "execution_count": 15,
      "outputs": [
        {
          "output_type": "stream",
          "text": [
            "True\n",
            "False\n",
            "False\n",
            "True\n",
            "False\n"
          ],
          "name": "stdout"
        }
      ]
    },
    {
      "cell_type": "markdown",
      "metadata": {
        "id": "QdPWKi1gL4UE"
      },
      "source": [
        "## Q16. 모스 부호 해독\n",
        "> 문자열 형식으로 입력받은 모스 부호(dot:. dash:-)를 해독하여 영어 문장으로 출력하는 프로그램을 작성하시오.\n",
        "\n",
        "- 글자와 글자 사이는 공백 1개, 단어와 단어 사이는 공백 2개로 구분한다.\n",
        "- 예를 들어 다음 모스 부호는 \"HE SLEEPS EARLY\"로 해석해야 한다.\n",
        "```\n",
        ".... .  ... .-.. . . .--. ...  . .- .-. .-.. -.--\n",
        "```\n",
        "> 모스부호 규칙 표\n",
        "```\n",
        "문자 부호\t문자   부호\n",
        "A\t .-\t    N\t    -.\n",
        "B\t -...\tO\t    ---\n",
        "C\t -.-.\tP\t    .--.\n",
        "D\t -..\tQ\t    --.-\n",
        "E\t .\t    R\t    .-.\n",
        "F\t ..-.\tS\t    ...\n",
        "G\t --.\tT\t    -\n",
        "H\t ....\tU\t    ..-\n",
        "I\t ..\t    V\t    ...-\n",
        "J\t .---\tW\t    .--\n",
        "K\t -.-\tX\t    -..-\n",
        "L\t .-..\tY\t    -.--\n",
        "M\t --\t    Z\t    --..\n",
        "```"
      ]
    },
    {
      "cell_type": "code",
      "metadata": {
        "id": "ciZbyRFrL4UF",
        "colab": {
          "base_uri": "https://localhost:8080/"
        },
        "outputId": "8c826ee5-b27d-4e48-e662-13637ff4b8d3"
      },
      "source": [
        "# [Q16] Code-1\n",
        "dic = {\n",
        "    '.-':'A','-...':'B','-.-.':'C','-..':'D','.':'E','..-.':'F',\n",
        "    '--.':'G','....':'H','..':'I','.---':'J','-.-':'K','.-..':'L',\n",
        "    '--':'M','-.':'N','---':'O','.--.':'P','--.-':'Q','.-.':'R',\n",
        "    '...':'S','-':'T','..-':'U','...-':'V','.--':'W','-..-':'X',\n",
        "    '-.--':'Y','--..':'Z'\n",
        "}\n",
        "\n",
        "def morse(src):\n",
        "    result = []\n",
        "    for word in src.split(\"  \"):\n",
        "        for char in word.split(\" \"):\n",
        "            result.append(dic[char])\n",
        "        result.append(\" \")\n",
        "    return \"\".join(result)\n",
        "\n",
        "\n",
        "print(morse('.... .  ... .-.. . . .--. ...  . .- .-. .-.. -.--'))\n"
      ],
      "execution_count": 14,
      "outputs": [
        {
          "output_type": "stream",
          "text": [
            "HE SLEEPS EARLY \n"
          ],
          "name": "stdout"
        }
      ]
    },
    {
      "cell_type": "code",
      "metadata": {
        "id": "x9-Qq3mVL4UJ",
        "colab": {
          "base_uri": "https://localhost:8080/"
        },
        "outputId": "94659d51-f581-41ce-886f-66cecf147f0b"
      },
      "source": [
        "# [Q16] Code-2\n",
        "mos = {\n",
        "    'A': '.-', 'N': '-.',\n",
        "    'B': '-...', 'O': '---',\n",
        "    'C': '-.-.', 'P': '.--.',\n",
        "    'D': '-..', 'Q': '--.-',\n",
        "    'E': '.', 'R': '.-.',\n",
        "    'F': '..-.', 'S': '...',\n",
        "    'G': '--.', 'T': '-',\n",
        "    'H': '....', 'U': '..-',\n",
        "    'I': '..', 'V': '...-',\n",
        "    'J': '.---', 'W': '.--',\n",
        "    'K': '-.-', 'X': '-..-',\n",
        "    'L': '.-..', 'Y': '-.--',\n",
        "    'M': '--', 'Z': '--..',\n",
        "    ' ': ''\n",
        "}\n",
        "line = '.... .  ... .-.. . . .--. ...  . .- .-. .-.. -.--'\n",
        "\n",
        "# dict의 key, value 바꾸기\n",
        "new_mos = {v:k for k,v in mos.items()}\n",
        "result = ''\n",
        "\n",
        "for i in line.split(' '):\n",
        "    if i in new_mos.keys():\n",
        "        result += new_mos.get(i)\n",
        "\n",
        "print(result)\n"
      ],
      "execution_count": 13,
      "outputs": [
        {
          "output_type": "stream",
          "text": [
            "HE SLEEPS EARLY\n"
          ],
          "name": "stdout"
        }
      ]
    },
    {
      "cell_type": "markdown",
      "metadata": {
        "id": "om4sRiRhMosn"
      },
      "source": [
        "\n",
        "\n",
        "---\n",
        "\n",
        "# 다음 정규식 문제는 기말고사 후에 도전해 보세요."
      ]
    },
    {
      "cell_type": "markdown",
      "metadata": {
        "id": "nazB2KXYOm5R"
      },
      "source": [
        "## Regular Expression\n",
        "- import re"
      ]
    },
    {
      "cell_type": "markdown",
      "metadata": {
        "id": "AN8kEO30L5NE"
      },
      "source": [
        "## Q17. 기초 메타 문자\n",
        "> 다음 중 정규식 a[.]{3,}b과 매치되는 문자열은 무엇일까?\n",
        "\n",
        "\n",
        "```\n",
        "acccb\n",
        "a....b\n",
        "aaab\n",
        "a.cccb\n",
        "```\n"
      ]
    },
    {
      "cell_type": "code",
      "metadata": {
        "id": "uKQWoUqhL5NG"
      },
      "source": [
        "# [Q17] Code\n",
        "\n"
      ],
      "execution_count": null,
      "outputs": []
    },
    {
      "cell_type": "markdown",
      "metadata": {
        "id": "0dEWfwATL6DE"
      },
      "source": [
        "## Q18. 문자열 검색\n",
        "> 다음 코드의 결괏값은 무엇일까?\n",
        "\n",
        "```\n",
        ">>> import re\n",
        ">>> p = re.compile(\"[a-z]+\")\n",
        ">>> m = p.search(\"5 python\")\n",
        ">>> m.start() + m.end()\n",
        "```\n"
      ]
    },
    {
      "cell_type": "code",
      "metadata": {
        "id": "Ip11Dmo7L6DH"
      },
      "source": [
        "# [Q18] Code\n",
        "\n"
      ],
      "execution_count": null,
      "outputs": []
    },
    {
      "cell_type": "markdown",
      "metadata": {
        "id": "8QizaqrUL62E"
      },
      "source": [
        "## Q19. 그루핑\n",
        "> 다음과 같은 문자열에서 휴대폰 번호 뒷자리인 숫자 4개를 ####로 바꾸는 프로그램을 정규식을 사용하여 작성하시오.\n",
        "\n",
        "```\n",
        "park 010-9999-9988\n",
        "kim 010-9909-7789\n",
        "lee 010-8789-7768\n",
        "```\n"
      ]
    },
    {
      "cell_type": "code",
      "metadata": {
        "id": "bfRvchIlL62H"
      },
      "source": [
        "# [Q19] Code\n",
        "\n"
      ],
      "execution_count": null,
      "outputs": []
    },
    {
      "cell_type": "markdown",
      "metadata": {
        "id": "0DumiUQoL7jk"
      },
      "source": [
        "## Q20. 전방 탐색\n",
        "> 다음은 이메일 주소를 나타내는 정규식이다. 이 정규식은 park@naver.com, kim@daum.net, lee@myhome.co.kr 등과 매치된다. 긍정형 전방 탐색 기법을 사용하여 .com, .net이 아닌 이메일 주소는 제외시키는 정규식을 작성하시오.\n",
        "\n",
        "```\n",
        ".*[@].*[.].*$\n",
        "```\n"
      ]
    },
    {
      "cell_type": "code",
      "metadata": {
        "id": "9S9UUOkFL7jl"
      },
      "source": [
        "# [Q20] Code\n",
        "\n"
      ],
      "execution_count": null,
      "outputs": []
    },
    {
      "cell_type": "markdown",
      "metadata": {
        "id": "2ljBDShkbqZO"
      },
      "source": [
        "## 코딩 연습 결과를 github에 올리기\n",
        "> 완성된 ipython 노트북 파일을 각자의 github에 올리시오.\n",
        "\n",
        "- github 계정 만들기 (계정이 없는 학생)\n",
        "    1. github에 sign up (Google gmail 계정을 이용해서 만드시오.)\n",
        "- github에 노트 올리기\n",
        "    2. github에 각자의 id로 repo를 만드시오. (한번 만들면 계속 재사용)\n",
        "    3. github repo에 연습결과 노트를 올리시오.\n",
        "        - 제출노트: ch8_exercises_id.ipynb\n"
      ]
    },
    {
      "cell_type": "code",
      "metadata": {
        "id": "OnCR-YNCc8B6"
      },
      "source": [
        ""
      ],
      "execution_count": null,
      "outputs": []
    }
  ]
}